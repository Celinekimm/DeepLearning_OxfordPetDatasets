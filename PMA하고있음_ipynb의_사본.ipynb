{
  "nbformat": 4,
  "nbformat_minor": 0,
  "metadata": {
    "colab": {
      "name": "PMA하고있음.ipynb의 사본",
      "provenance": [],
      "collapsed_sections": [
        "B6stACiQwarp"
      ],
      "mount_file_id": "1NntwPVIFZ7Pl8qCwVt_U4BAsUIr4WXCe",
      "authorship_tag": "ABX9TyNC/m4CN1mcWSnzs52WRqtH",
      "include_colab_link": true
    },
    "kernelspec": {
      "name": "python3",
      "display_name": "Python 3"
    },
    "language_info": {
      "name": "python"
    },
    "accelerator": "GPU"
  },
  "cells": [
    {
      "cell_type": "markdown",
      "metadata": {
        "id": "view-in-github",
        "colab_type": "text"
      },
      "source": [
        "<a href=\"https://colab.research.google.com/github/Celinekimm/DeepLearning_OxfordPetDatasets/blob/main/PMA%ED%95%98%EA%B3%A0%EC%9E%88%EC%9D%8C_ipynb%EC%9D%98_%EC%82%AC%EB%B3%B8.ipynb\" target=\"_parent\"><img src=\"https://colab.research.google.com/assets/colab-badge.svg\" alt=\"Open In Colab\"/></a>"
      ]
    },
    {
      "cell_type": "code",
      "execution_count": null,
      "metadata": {
        "id": "DAwTGVy4oVql"
      },
      "outputs": [],
      "source": [
        "import pandas as pd\n",
        "import seaborn as sns\n",
        "import matplotlib.pyplot as plt\n",
        "from sklearn.model_selection import train_test_split\n",
        "\n",
        "sns.set_style('whitegrid')"
      ]
    },
    {
      "cell_type": "code",
      "source": [
        "from google.colab import drive\n",
        "drive.mount('/content/drive')"
      ],
      "metadata": {
        "colab": {
          "base_uri": "https://localhost:8080/"
        },
        "id": "30d3LRiaDdG6",
        "outputId": "4b1202d1-0b12-4079-96d9-73dbb194de85"
      },
      "execution_count": null,
      "outputs": [
        {
          "output_type": "stream",
          "name": "stdout",
          "text": [
            "Drive already mounted at /content/drive; to attempt to forcibly remount, call drive.mount(\"/content/drive\", force_remount=True).\n"
          ]
        }
      ]
    },
    {
      "cell_type": "code",
      "source": [
        "cd /content/drive/MyDrive/data"
      ],
      "metadata": {
        "colab": {
          "base_uri": "https://localhost:8080/"
        },
        "id": "V8c6pdMADu-L",
        "outputId": "097f44e8-e8ce-4747-fb1c-3751a27fce2e"
      },
      "execution_count": null,
      "outputs": [
        {
          "output_type": "stream",
          "name": "stdout",
          "text": [
            "/content/drive/MyDrive/data\n"
          ]
        }
      ]
    },
    {
      "cell_type": "markdown",
      "source": [
        "We will now load the dataset using Pandas and create the dataframe with 4 colums."
      ],
      "metadata": {
        "id": "AH7aLfbzpgxY"
      }
    },
    {
      "cell_type": "code",
      "source": [
        "#Image CLASS-ID SPECIES BREED ID\n",
        "#ID: 1:37 Class ids\n",
        "#SPECIES: 1:Cat 2:Dog\n",
        "#BREED ID: 1-25:Cat 1:12:Dog\n",
        "#All images with 1st letter as captial are cat images\n",
        "#images with small first letter are dog images\n",
        "\n",
        "df = pd.read_csv('/content/drive/MyDrive/data/annotations/list.txt', skiprows=6, delimiter=' ', header=None)\n",
        "df.columns = ['file_name', 'id', 'species', 'breed']\n",
        "df"
      ],
      "metadata": {
        "id": "TOn-qbdboa_a",
        "colab": {
          "base_uri": "https://localhost:8080/",
          "height": 424
        },
        "outputId": "6159a542-6420-49e8-cd63-9575547f8213"
      },
      "execution_count": null,
      "outputs": [
        {
          "output_type": "execute_result",
          "data": {
            "text/plain": [
              "                 file_name  id  species  breed\n",
              "0           Abyssinian_100   1        1      1\n",
              "1           Abyssinian_101   1        1      1\n",
              "2           Abyssinian_102   1        1      1\n",
              "3           Abyssinian_103   1        1      1\n",
              "4           Abyssinian_104   1        1      1\n",
              "...                    ...  ..      ...    ...\n",
              "7344  yorkshire_terrier_96  37        2     25\n",
              "7345  yorkshire_terrier_97  37        2     25\n",
              "7346  yorkshire_terrier_98  37        2     25\n",
              "7347  yorkshire_terrier_99  37        2     25\n",
              "7348   yorkshire_terrier_9  37        2     25\n",
              "\n",
              "[7349 rows x 4 columns]"
            ],
            "text/html": [
              "\n",
              "  <div id=\"df-ff27e8d7-dcaf-49f8-83e3-78b9ceba0e16\">\n",
              "    <div class=\"colab-df-container\">\n",
              "      <div>\n",
              "<style scoped>\n",
              "    .dataframe tbody tr th:only-of-type {\n",
              "        vertical-align: middle;\n",
              "    }\n",
              "\n",
              "    .dataframe tbody tr th {\n",
              "        vertical-align: top;\n",
              "    }\n",
              "\n",
              "    .dataframe thead th {\n",
              "        text-align: right;\n",
              "    }\n",
              "</style>\n",
              "<table border=\"1\" class=\"dataframe\">\n",
              "  <thead>\n",
              "    <tr style=\"text-align: right;\">\n",
              "      <th></th>\n",
              "      <th>file_name</th>\n",
              "      <th>id</th>\n",
              "      <th>species</th>\n",
              "      <th>breed</th>\n",
              "    </tr>\n",
              "  </thead>\n",
              "  <tbody>\n",
              "    <tr>\n",
              "      <th>0</th>\n",
              "      <td>Abyssinian_100</td>\n",
              "      <td>1</td>\n",
              "      <td>1</td>\n",
              "      <td>1</td>\n",
              "    </tr>\n",
              "    <tr>\n",
              "      <th>1</th>\n",
              "      <td>Abyssinian_101</td>\n",
              "      <td>1</td>\n",
              "      <td>1</td>\n",
              "      <td>1</td>\n",
              "    </tr>\n",
              "    <tr>\n",
              "      <th>2</th>\n",
              "      <td>Abyssinian_102</td>\n",
              "      <td>1</td>\n",
              "      <td>1</td>\n",
              "      <td>1</td>\n",
              "    </tr>\n",
              "    <tr>\n",
              "      <th>3</th>\n",
              "      <td>Abyssinian_103</td>\n",
              "      <td>1</td>\n",
              "      <td>1</td>\n",
              "      <td>1</td>\n",
              "    </tr>\n",
              "    <tr>\n",
              "      <th>4</th>\n",
              "      <td>Abyssinian_104</td>\n",
              "      <td>1</td>\n",
              "      <td>1</td>\n",
              "      <td>1</td>\n",
              "    </tr>\n",
              "    <tr>\n",
              "      <th>...</th>\n",
              "      <td>...</td>\n",
              "      <td>...</td>\n",
              "      <td>...</td>\n",
              "      <td>...</td>\n",
              "    </tr>\n",
              "    <tr>\n",
              "      <th>7344</th>\n",
              "      <td>yorkshire_terrier_96</td>\n",
              "      <td>37</td>\n",
              "      <td>2</td>\n",
              "      <td>25</td>\n",
              "    </tr>\n",
              "    <tr>\n",
              "      <th>7345</th>\n",
              "      <td>yorkshire_terrier_97</td>\n",
              "      <td>37</td>\n",
              "      <td>2</td>\n",
              "      <td>25</td>\n",
              "    </tr>\n",
              "    <tr>\n",
              "      <th>7346</th>\n",
              "      <td>yorkshire_terrier_98</td>\n",
              "      <td>37</td>\n",
              "      <td>2</td>\n",
              "      <td>25</td>\n",
              "    </tr>\n",
              "    <tr>\n",
              "      <th>7347</th>\n",
              "      <td>yorkshire_terrier_99</td>\n",
              "      <td>37</td>\n",
              "      <td>2</td>\n",
              "      <td>25</td>\n",
              "    </tr>\n",
              "    <tr>\n",
              "      <th>7348</th>\n",
              "      <td>yorkshire_terrier_9</td>\n",
              "      <td>37</td>\n",
              "      <td>2</td>\n",
              "      <td>25</td>\n",
              "    </tr>\n",
              "  </tbody>\n",
              "</table>\n",
              "<p>7349 rows × 4 columns</p>\n",
              "</div>\n",
              "      <button class=\"colab-df-convert\" onclick=\"convertToInteractive('df-ff27e8d7-dcaf-49f8-83e3-78b9ceba0e16')\"\n",
              "              title=\"Convert this dataframe to an interactive table.\"\n",
              "              style=\"display:none;\">\n",
              "        \n",
              "  <svg xmlns=\"http://www.w3.org/2000/svg\" height=\"24px\"viewBox=\"0 0 24 24\"\n",
              "       width=\"24px\">\n",
              "    <path d=\"M0 0h24v24H0V0z\" fill=\"none\"/>\n",
              "    <path d=\"M18.56 5.44l.94 2.06.94-2.06 2.06-.94-2.06-.94-.94-2.06-.94 2.06-2.06.94zm-11 1L8.5 8.5l.94-2.06 2.06-.94-2.06-.94L8.5 2.5l-.94 2.06-2.06.94zm10 10l.94 2.06.94-2.06 2.06-.94-2.06-.94-.94-2.06-.94 2.06-2.06.94z\"/><path d=\"M17.41 7.96l-1.37-1.37c-.4-.4-.92-.59-1.43-.59-.52 0-1.04.2-1.43.59L10.3 9.45l-7.72 7.72c-.78.78-.78 2.05 0 2.83L4 21.41c.39.39.9.59 1.41.59.51 0 1.02-.2 1.41-.59l7.78-7.78 2.81-2.81c.8-.78.8-2.07 0-2.86zM5.41 20L4 18.59l7.72-7.72 1.47 1.35L5.41 20z\"/>\n",
              "  </svg>\n",
              "      </button>\n",
              "      \n",
              "  <style>\n",
              "    .colab-df-container {\n",
              "      display:flex;\n",
              "      flex-wrap:wrap;\n",
              "      gap: 12px;\n",
              "    }\n",
              "\n",
              "    .colab-df-convert {\n",
              "      background-color: #E8F0FE;\n",
              "      border: none;\n",
              "      border-radius: 50%;\n",
              "      cursor: pointer;\n",
              "      display: none;\n",
              "      fill: #1967D2;\n",
              "      height: 32px;\n",
              "      padding: 0 0 0 0;\n",
              "      width: 32px;\n",
              "    }\n",
              "\n",
              "    .colab-df-convert:hover {\n",
              "      background-color: #E2EBFA;\n",
              "      box-shadow: 0px 1px 2px rgba(60, 64, 67, 0.3), 0px 1px 3px 1px rgba(60, 64, 67, 0.15);\n",
              "      fill: #174EA6;\n",
              "    }\n",
              "\n",
              "    [theme=dark] .colab-df-convert {\n",
              "      background-color: #3B4455;\n",
              "      fill: #D2E3FC;\n",
              "    }\n",
              "\n",
              "    [theme=dark] .colab-df-convert:hover {\n",
              "      background-color: #434B5C;\n",
              "      box-shadow: 0px 1px 3px 1px rgba(0, 0, 0, 0.15);\n",
              "      filter: drop-shadow(0px 1px 2px rgba(0, 0, 0, 0.3));\n",
              "      fill: #FFFFFF;\n",
              "    }\n",
              "  </style>\n",
              "\n",
              "      <script>\n",
              "        const buttonEl =\n",
              "          document.querySelector('#df-ff27e8d7-dcaf-49f8-83e3-78b9ceba0e16 button.colab-df-convert');\n",
              "        buttonEl.style.display =\n",
              "          google.colab.kernel.accessAllowed ? 'block' : 'none';\n",
              "\n",
              "        async function convertToInteractive(key) {\n",
              "          const element = document.querySelector('#df-ff27e8d7-dcaf-49f8-83e3-78b9ceba0e16');\n",
              "          const dataTable =\n",
              "            await google.colab.kernel.invokeFunction('convertToInteractive',\n",
              "                                                     [key], {});\n",
              "          if (!dataTable) return;\n",
              "\n",
              "          const docLinkHtml = 'Like what you see? Visit the ' +\n",
              "            '<a target=\"_blank\" href=https://colab.research.google.com/notebooks/data_table.ipynb>data table notebook</a>'\n",
              "            + ' to learn more about interactive tables.';\n",
              "          element.innerHTML = '';\n",
              "          dataTable['output_type'] = 'display_data';\n",
              "          await google.colab.output.renderOutput(dataTable, element);\n",
              "          const docLink = document.createElement('div');\n",
              "          docLink.innerHTML = docLinkHtml;\n",
              "          element.appendChild(docLink);\n",
              "        }\n",
              "      </script>\n",
              "    </div>\n",
              "  </div>\n",
              "  "
            ]
          },
          "metadata": {},
          "execution_count": 83
        }
      ]
    },
    {
      "cell_type": "markdown",
      "source": [
        "The dataset will be further divided into training and validation. Now that we have the data ready, let’s begin the explore the data."
      ],
      "metadata": {
        "id": "lndolBDhpMXL"
      }
    },
    {
      "cell_type": "code",
      "source": [
        "print(df['species'].value_counts().sort_index())"
      ],
      "metadata": {
        "id": "qlx4fnIspVNl",
        "colab": {
          "base_uri": "https://localhost:8080/"
        },
        "outputId": "21af0ecd-4e46-426d-ffad-0170769cdc93"
      },
      "execution_count": null,
      "outputs": [
        {
          "output_type": "stream",
          "name": "stdout",
          "text": [
            "1    2371\n",
            "2    4978\n",
            "Name: species, dtype: int64\n"
          ]
        }
      ]
    },
    {
      "cell_type": "code",
      "source": [
        "value_counts = df['species'].value_counts().sort_index()\n",
        "\n",
        "plt.bar(range(len(value_counts)), value_counts.values, align='center')\n",
        "plt.xticks(range(len(value_counts)), value_counts.index.values)\n",
        "\n",
        "plt.show()"
      ],
      "metadata": {
        "id": "FgdPdVl1qI7E",
        "colab": {
          "base_uri": "https://localhost:8080/",
          "height": 265
        },
        "outputId": "86b644f2-75b2-4f63-9b87-19c0f5fc1cef"
      },
      "execution_count": null,
      "outputs": [
        {
          "output_type": "display_data",
          "data": {
            "text/plain": [
              "<Figure size 432x288 with 1 Axes>"
            ],
            "image/png": "[encoded data removed]"
          },
          "metadata": {}
        }
      ]
    },
    {
      "cell_type": "code",
      "source": [
        "# 빼기\n",
        "\n",
        "value_counts = df['id'].value_counts().sort_index()\n",
        "\n",
        "plt.bar(range(len(value_counts)), value_counts.values, align='center')\n",
        "plt.xticks(range(len(value_counts)), value_counts.index.values)\n",
        "\n",
        "plt.tight_layout()\n",
        "plt.show()"
      ],
      "metadata": {
        "id": "6yQ6FaE3qL7b",
        "colab": {
          "base_uri": "https://localhost:8080/",
          "height": 297
        },
        "outputId": "7b558215-830d-4162-b4ee-e4cebb27fb11"
      },
      "execution_count": null,
      "outputs": [
        {
          "output_type": "display_data",
          "data": {
            "text/plain": [
              "<Figure size 432x288 with 1 Axes>"
            ],
            "image/png": "[encoded data removed]"
          },
          "metadata": {}
        }
      ]
    },
    {
      "cell_type": "code",
      "source": [
        "# 빼기\n",
        "\n",
        "value_counts = df[df['species'] == 1]['breed'].value_counts().sort_index()\n",
        "\n",
        "plt.bar(range(len(value_counts)), value_counts.values, align='center')\n",
        "plt.xticks(range(len(value_counts)), value_counts.index.values)\n",
        "\n",
        "plt.tight_layout()\n",
        "plt.show()"
      ],
      "metadata": {
        "id": "axBXnue-qMrj",
        "colab": {
          "base_uri": "https://localhost:8080/",
          "height": 297
        },
        "outputId": "8c1f9913-bb55-48ec-9b8c-09f216592b24"
      },
      "execution_count": null,
      "outputs": [
        {
          "output_type": "display_data",
          "data": {
            "text/plain": [
              "<Figure size 432x288 with 1 Axes>"
            ],
            "image/png": "[encoded data removed]"
          },
          "metadata": {}
        }
      ]
    },
    {
      "cell_type": "code",
      "source": [
        "# 빼기\n",
        "\n",
        "value_counts = df[df['species'] == 2]['breed'].value_counts().sort_index()\n",
        "\n",
        "plt.bar(range(len(value_counts)), value_counts.values, align='center')\n",
        "plt.xticks(range(len(value_counts)), value_counts.index.values)\n",
        "\n",
        "plt.tight_layout()\n",
        "plt.show()"
      ],
      "metadata": {
        "id": "kyQmhGS8qOnj",
        "colab": {
          "base_uri": "https://localhost:8080/",
          "height": 297
        },
        "outputId": "b3d986ac-ea11-4d11-c362-ce85ad8d961d"
      },
      "execution_count": null,
      "outputs": [
        {
          "output_type": "display_data",
          "data": {
            "text/plain": [
              "<Figure size 432x288 with 1 Axes>"
            ],
            "image/png": "[encoded data removed]"
          },
          "metadata": {}
        }
      ]
    },
    {
      "cell_type": "code",
      "source": [
        "# 빼기\n",
        "\n",
        "import os\n",
        "from glob import glob"
      ],
      "metadata": {
        "id": "o1J-irnyqR8r"
      },
      "execution_count": null,
      "outputs": []
    },
    {
      "cell_type": "code",
      "source": [
        "# 빼기\n",
        "\n",
        "image_dir = '/content/drive/MyDrive/data/images/'\n",
        "bbox_dir = '/content/drive/MyDrive/data/annotations/xmls/'\n",
        "seg_dir = '/content/drive/MyDrive/data/annotations/trimaps/'"
      ],
      "metadata": {
        "id": "NRHx96FSqULD"
      },
      "execution_count": null,
      "outputs": []
    },
    {
      "cell_type": "code",
      "source": [
        "# 빼기\n",
        "\n",
        "image_files = glob(image_dir + '*.jpg')\n",
        "len(image_files)"
      ],
      "metadata": {
        "id": "5qzGd0q1qVps",
        "colab": {
          "base_uri": "https://localhost:8080/"
        },
        "outputId": "65dccd3f-5081-45c0-c7c3-a463c307f1d0"
      },
      "execution_count": null,
      "outputs": [
        {
          "output_type": "execute_result",
          "data": {
            "text/plain": [
              "1030"
            ]
          },
          "metadata": {},
          "execution_count": 95
        }
      ]
    },
    {
      "cell_type": "markdown",
      "source": [
        "Now, we are going to do a head ROI detection in images. "
      ],
      "metadata": {
        "id": "gpgPYyKeq6JO"
      }
    },
    {
      "cell_type": "code",
      "source": [
        "import cv2\n",
        "import xml.etree.ElementTree as et\n",
        "from matplotlib.patches import Rectangle"
      ],
      "metadata": {
        "id": "5VSzuGrzsvHJ"
      },
      "execution_count": null,
      "outputs": []
    },
    {
      "cell_type": "code",
      "source": [
        "image_path = image_files[110]\n",
        "bbox_path = image_path.replace(image_dir, bbox_dir).replace('jpg', 'xml')\n",
        "\n",
        "# important to change BGR to RGB\n",
        "image = cv2.imread(image_path)\n",
        "image = cv2.cvtColor(image, cv2.COLOR_BGR2RGB)\n",
        "\n",
        "# parsing xml file\n",
        "tree = et.parse(bbox_path)\n",
        "\n",
        "xmin = float(tree.find('./object/bndbox/xmin').text)\n",
        "xmax = float(tree.find('./object/bndbox/xmax').text)\n",
        "ymin = float(tree.find('./object/bndbox/ymin').text)\n",
        "ymax = float(tree.find('./object/bndbox/ymax').text)\n",
        "\n",
        "rect_x = xmin\n",
        "rect_y = ymin\n",
        "rect_w = xmax - xmin\n",
        "rect_h = ymax - ymin\n",
        "\n",
        "rect = Rectangle((rect_x, rect_y), rect_w, rect_h, fill=False, color='red')\n",
        "plt.axes().add_patch(rect)\n",
        "plt.imshow(image)\n",
        "\n",
        "plt.show()"
      ],
      "metadata": {
        "id": "1PpI6EHAswGy",
        "colab": {
          "base_uri": "https://localhost:8080/",
          "height": 397
        },
        "outputId": "81303ec0-6a4e-491d-bd1f-515c72bad735"
      },
      "execution_count": null,
      "outputs": [
        {
          "output_type": "error",
          "ename": "FileNotFoundError",
          "evalue": "ignored",
          "traceback": [
            "\u001b[0;31m---------------------------------------------------------------------------\u001b[0m",
            "\u001b[0;31mFileNotFoundError\u001b[0m                         Traceback (most recent call last)",
            "\u001b[0;32m<ipython-input-97-2ef7b0b041e1>\u001b[0m in \u001b[0;36m<module>\u001b[0;34m()\u001b[0m\n\u001b[1;32m      7\u001b[0m \u001b[0;34m\u001b[0m\u001b[0m\n\u001b[1;32m      8\u001b[0m \u001b[0;31m# parsing xml file\u001b[0m\u001b[0;34m\u001b[0m\u001b[0;34m\u001b[0m\u001b[0;34m\u001b[0m\u001b[0m\n\u001b[0;32m----> 9\u001b[0;31m \u001b[0mtree\u001b[0m \u001b[0;34m=\u001b[0m \u001b[0met\u001b[0m\u001b[0;34m.\u001b[0m\u001b[0mparse\u001b[0m\u001b[0;34m(\u001b[0m\u001b[0mbbox_path\u001b[0m\u001b[0;34m)\u001b[0m\u001b[0;34m\u001b[0m\u001b[0;34m\u001b[0m\u001b[0m\n\u001b[0m\u001b[1;32m     10\u001b[0m \u001b[0;34m\u001b[0m\u001b[0m\n\u001b[1;32m     11\u001b[0m \u001b[0mxmin\u001b[0m \u001b[0;34m=\u001b[0m \u001b[0mfloat\u001b[0m\u001b[0;34m(\u001b[0m\u001b[0mtree\u001b[0m\u001b[0;34m.\u001b[0m\u001b[0mfind\u001b[0m\u001b[0;34m(\u001b[0m\u001b[0;34m'./object/bndbox/xmin'\u001b[0m\u001b[0;34m)\u001b[0m\u001b[0;34m.\u001b[0m\u001b[0mtext\u001b[0m\u001b[0;34m)\u001b[0m\u001b[0;34m\u001b[0m\u001b[0;34m\u001b[0m\u001b[0m\n",
            "\u001b[0;32m/usr/lib/python3.7/xml/etree/ElementTree.py\u001b[0m in \u001b[0;36mparse\u001b[0;34m(source, parser)\u001b[0m\n\u001b[1;32m   1195\u001b[0m     \"\"\"\n\u001b[1;32m   1196\u001b[0m     \u001b[0mtree\u001b[0m \u001b[0;34m=\u001b[0m \u001b[0mElementTree\u001b[0m\u001b[0;34m(\u001b[0m\u001b[0;34m)\u001b[0m\u001b[0;34m\u001b[0m\u001b[0;34m\u001b[0m\u001b[0m\n\u001b[0;32m-> 1197\u001b[0;31m     \u001b[0mtree\u001b[0m\u001b[0;34m.\u001b[0m\u001b[0mparse\u001b[0m\u001b[0;34m(\u001b[0m\u001b[0msource\u001b[0m\u001b[0;34m,\u001b[0m \u001b[0mparser\u001b[0m\u001b[0;34m)\u001b[0m\u001b[0;34m\u001b[0m\u001b[0;34m\u001b[0m\u001b[0m\n\u001b[0m\u001b[1;32m   1198\u001b[0m     \u001b[0;32mreturn\u001b[0m \u001b[0mtree\u001b[0m\u001b[0;34m\u001b[0m\u001b[0;34m\u001b[0m\u001b[0m\n\u001b[1;32m   1199\u001b[0m \u001b[0;34m\u001b[0m\u001b[0m\n",
            "\u001b[0;32m/usr/lib/python3.7/xml/etree/ElementTree.py\u001b[0m in \u001b[0;36mparse\u001b[0;34m(self, source, parser)\u001b[0m\n\u001b[1;32m    585\u001b[0m         \u001b[0mclose_source\u001b[0m \u001b[0;34m=\u001b[0m \u001b[0;32mFalse\u001b[0m\u001b[0;34m\u001b[0m\u001b[0;34m\u001b[0m\u001b[0m\n\u001b[1;32m    586\u001b[0m         \u001b[0;32mif\u001b[0m \u001b[0;32mnot\u001b[0m \u001b[0mhasattr\u001b[0m\u001b[0;34m(\u001b[0m\u001b[0msource\u001b[0m\u001b[0;34m,\u001b[0m \u001b[0;34m\"read\"\u001b[0m\u001b[0;34m)\u001b[0m\u001b[0;34m:\u001b[0m\u001b[0;34m\u001b[0m\u001b[0;34m\u001b[0m\u001b[0m\n\u001b[0;32m--> 587\u001b[0;31m             \u001b[0msource\u001b[0m \u001b[0;34m=\u001b[0m \u001b[0mopen\u001b[0m\u001b[0;34m(\u001b[0m\u001b[0msource\u001b[0m\u001b[0;34m,\u001b[0m \u001b[0;34m\"rb\"\u001b[0m\u001b[0;34m)\u001b[0m\u001b[0;34m\u001b[0m\u001b[0;34m\u001b[0m\u001b[0m\n\u001b[0m\u001b[1;32m    588\u001b[0m             \u001b[0mclose_source\u001b[0m \u001b[0;34m=\u001b[0m \u001b[0;32mTrue\u001b[0m\u001b[0;34m\u001b[0m\u001b[0;34m\u001b[0m\u001b[0m\n\u001b[1;32m    589\u001b[0m         \u001b[0;32mtry\u001b[0m\u001b[0;34m:\u001b[0m\u001b[0;34m\u001b[0m\u001b[0;34m\u001b[0m\u001b[0m\n",
            "\u001b[0;31mFileNotFoundError\u001b[0m: [Errno 2] No such file or directory: '/content/drive/MyDrive/data/annotations/xmls/american_bulldog_49.xml'"
          ]
        }
      ]
    },
    {
      "cell_type": "markdown",
      "source": [
        "We also check the seg map image."
      ],
      "metadata": {
        "id": "tND-KlpluJb2"
      }
    },
    {
      "cell_type": "code",
      "source": [
        "image_path = image_files[110]\n",
        "seg_path = image_path.replace(image_dir, seg_dir).replace('jpg', 'png')\n",
        "\n",
        "image = cv2.imread(image_path)\n",
        "image = cv2.cvtColor(image, cv2.COLOR_BGR2RGB)\n",
        "seg_map = cv2.imread(seg_path, cv2.IMREAD_GRAYSCALE)\n",
        "\n",
        "plt.figure(figsize=(15, 15))\n",
        "plt.subplot(1, 2, 1)\n",
        "plt.imshow(image)\n",
        "plt.subplot(1, 2, 2)\n",
        "# plt.imshow(seg_map)\n",
        "plt.imshow(image)\n",
        "\n",
        "plt.show()"
      ],
      "metadata": {
        "id": "_34QNAlAsxyZ",
        "colab": {
          "base_uri": "https://localhost:8080/",
          "height": 314
        },
        "outputId": "3c23dad1-0b74-42f5-a069-6e4c6041219d"
      },
      "execution_count": null,
      "outputs": [
        {
          "output_type": "display_data",
          "data": {
            "text/plain": [
              "<Figure size 1080x1080 with 2 Axes>"
            ],
            "image/png": "[encoded data removed]"
          },
          "metadata": {}
        }
      ]
    },
    {
      "cell_type": "markdown",
      "source": [
        "Now, we are going to split the data using K-fold. \n",
        "\n",
        "K-fold cross-validation help to data splitting process more effectively by generalisation our data.\n",
        "\n",
        "(Reference: https://towardsdatascience.com/k-fold-cross-validation-explained-in-plain-english-659e33c0bc0)"
      ],
      "metadata": {
        "id": "1ZV0ELG7vOh5"
      }
    },
    {
      "cell_type": "code",
      "source": [
        "from sklearn.model_selection import KFold"
      ],
      "metadata": {
        "id": "Jr8jp5hhuneP"
      },
      "execution_count": null,
      "outputs": []
    },
    {
      "cell_type": "code",
      "source": [
        "kf = KFold(n_splits=5, shuffle=True, random_state=42)\n",
        "\n",
        "df['fold'] = -1\n",
        "for idx, (t, v) in enumerate(kf.split(df), 1):\n",
        "    print(t, v, len(v))\n",
        "    df.loc[v, 'fold'] = idx"
      ],
      "metadata": {
        "id": "zf-jSBh6uoa8",
        "colab": {
          "base_uri": "https://localhost:8080/"
        },
        "outputId": "ae538d2d-0b11-4102-973b-4ac31db8d0cd"
      },
      "execution_count": null,
      "outputs": [
        {
          "output_type": "stream",
          "name": "stdout",
          "text": [
            "[   1    2    3 ... 7346 7347 7348] [   0    8   14 ... 7339 7341 7345] 1470\n",
            "[   0    1    2 ... 7346 7347 7348] [  12   15   26 ... 7340 7342 7344] 1470\n",
            "[   0    1    2 ... 7345 7346 7348] [   6    7   18 ... 7333 7343 7347] 1470\n",
            "[   0    3    4 ... 7345 7347 7348] [   1    2   10 ... 7335 7336 7346] 1470\n",
            "[   0    1    2 ... 7345 7346 7347] [   3    4    5 ... 7334 7338 7348] 1469\n"
          ]
        }
      ]
    },
    {
      "cell_type": "code",
      "source": [
        "print(len(df[df['fold'] == 1]))\n",
        "print(len(df[df['fold'] != 1]))"
      ],
      "metadata": {
        "id": "_ffCFLmwupZG",
        "colab": {
          "base_uri": "https://localhost:8080/"
        },
        "outputId": "b5256660-5fa1-4476-e189-e74bbe3ae029"
      },
      "execution_count": null,
      "outputs": [
        {
          "output_type": "stream",
          "name": "stdout",
          "text": [
            "1470\n",
            "5879\n"
          ]
        }
      ]
    },
    {
      "cell_type": "code",
      "source": [
        "value_counts = df[df['fold'] != 5]['id'].value_counts().sort_index()\n",
        "\n",
        "plt.bar(range(len(value_counts)), value_counts.values, align='center')\n",
        "plt.xticks(range(len(value_counts)), value_counts.index.values)\n",
        "\n",
        "plt.tight_layout()\n",
        "plt.show()"
      ],
      "metadata": {
        "id": "5P7vAiB2uqV_",
        "colab": {
          "base_uri": "https://localhost:8080/",
          "height": 297
        },
        "outputId": "601eb9e0-3a81-4581-bba7-e88befa5a2ca"
      },
      "execution_count": null,
      "outputs": [
        {
          "output_type": "display_data",
          "data": {
            "text/plain": [
              "<Figure size 432x288 with 1 Axes>"
            ],
            "image/png": "[encoded data removed]"
          },
          "metadata": {}
        }
      ]
    },
    {
      "cell_type": "code",
      "source": [
        "# 빼기\n",
        "\n",
        "from sklearn.model_selection import StratifiedKFold"
      ],
      "metadata": {
        "id": "L4SqOa28urQp"
      },
      "execution_count": null,
      "outputs": []
    },
    {
      "cell_type": "code",
      "source": [
        "# 빼기\n",
        "\n",
        "skf = StratifiedKFold(n_splits=5, shuffle=True, random_state=42)\n",
        "\n",
        "df['fold'] = -1\n",
        "for idx, (t, v) in enumerate(skf.split(df, df['id']), 1):\n",
        "    print(t, v, len(v))\n",
        "    df.loc[v, 'fold'] = idx"
      ],
      "metadata": {
        "id": "Mfk3ND9TusNf",
        "colab": {
          "base_uri": "https://localhost:8080/"
        },
        "outputId": "2b1467dd-eee9-4924-9848-0361200bd55e"
      },
      "execution_count": null,
      "outputs": [
        {
          "output_type": "stream",
          "name": "stdout",
          "text": [
            "[   0    1    3 ... 7346 7347 7348] [   2    7    8 ... 7326 7337 7345] 1470\n",
            "[   1    2    3 ... 7346 7347 7348] [   0   12   13 ... 7323 7335 7339] 1470\n",
            "[   0    2    3 ... 7345 7347 7348] [   1   14   19 ... 7341 7343 7346] 1470\n",
            "[   0    1    2 ... 7346 7347 7348] [   3    4    5 ... 7334 7338 7342] 1470\n",
            "[   0    1    2 ... 7343 7345 7346] [   9   21   23 ... 7344 7347 7348] 1469\n"
          ]
        }
      ]
    },
    {
      "cell_type": "code",
      "source": [
        "# 빼기\n",
        "\n",
        "value_counts = df[df['fold'] != 5]['id'].value_counts().sort_index()\n",
        "\n",
        "plt.bar(range(len(value_counts)), value_counts.values, align='center')\n",
        "plt.xticks(range(len(value_counts)), value_counts.index.values)\n",
        "\n",
        "plt.tight_layout()\n",
        "plt.show()"
      ],
      "metadata": {
        "id": "zuuc9vequtF_",
        "colab": {
          "base_uri": "https://localhost:8080/",
          "height": 297
        },
        "outputId": "649d0bd7-0684-415f-e583-028da29c836f"
      },
      "execution_count": null,
      "outputs": [
        {
          "output_type": "display_data",
          "data": {
            "text/plain": [
              "<Figure size 432x288 with 1 Axes>"
            ],
            "image/png": "[encoded data removed]"
          },
          "metadata": {}
        }
      ]
    },
    {
      "cell_type": "code",
      "source": [
        "# 빼기\n",
        "\n",
        "df.to_csv('/content/drive/MyDrive/data/kfolds.csv', index=False)"
      ],
      "metadata": {
        "id": "1ppzINuaut7o"
      },
      "execution_count": null,
      "outputs": []
    },
    {
      "cell_type": "markdown",
      "source": [
        "## Data Loader develpment pipeline\n",
        "\n",
        "When it comes to develop the deep learning pipeline, there are 3 steps and  we are going to create the data Loader first using keras sequence class.\n",
        "\n",
        "![download.png](data:image/png;base64,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)"
      ],
      "metadata": {
        "id": "B6stACiQwarp"
      }
    },
    {
      "cell_type": "markdown",
      "source": [
        "\n",
        "**Reference\n",
        "\n",
        "https://www.tensorflow.org/api_docs/python/tf/keras/utils/Sequence\n",
        "\n",
        "class CIFAR10Sequence(Sequence):\n",
        "\n",
        "    def __init__(self, x_set, y_set, batch_size):\n",
        "        self.x, self.y = x_set, y_set\n",
        "        self.batch_size = batch_size\n",
        "\n",
        "    def __len__(self):\n",
        "        return math.ceil(len(self.x) / self.batch_size)\n",
        "\n",
        "    def __getitem__(self, idx):\n",
        "        batch_x = self.x[idx * self.batch_size:(idx + 1) *\n",
        "        self.batch_size]\n",
        "        batch_y = self.y[idx * self.batch_size:(idx + 1) *\n",
        "        self.batch_size]\n",
        "\n",
        "        return np.array([\n",
        "            resize(imread(file_name), (200, 200))\n",
        "               for file_name in batch_x]), np.array(batch_y)\n",
        "```\n",
        "\n",
        "*   `__len__` : Number of batch in the Sequence.\n",
        "*   `__getitem__` : Returns a complete batch.\n",
        "*   `on_epoch_end` (optional) : Modifies dataset between epochs."
      ],
      "metadata": {
        "id": "wdNxos7_wujR"
      }
    },
    {
      "cell_type": "code",
      "source": [
        "import math\n",
        "import random\n",
        "\n",
        "import cv2\n",
        "import numpy as np\n",
        "import pandas as pd\n",
        "import matplotlib.pyplot as plt\n",
        "\n",
        "from tensorflow import keras"
      ],
      "metadata": {
        "id": "-84b0mbZwdzo"
      },
      "execution_count": null,
      "outputs": []
    },
    {
      "cell_type": "code",
      "source": [
        "class DataGenerator(keras.utils.Sequence):\n",
        "    def __init__(self, batch_size, csv_path, \n",
        "                 fold, image_size, mode='train',\n",
        "                 shuffle=True):\n",
        "        self.batch_size = batch_size\n",
        "        self.image_size = image_size\n",
        "        self.shuffle = shuffle\n",
        "        self.fold = fold\n",
        "        self.mode = mode\n",
        "        \n",
        "        self.df = pd.read_csv(csv_path)\n",
        "        \n",
        "        if self.mode == 'train':\n",
        "            self.df = self.df[self.df['fold'] != self.fold]\n",
        "        elif self.mode == 'val':\n",
        "            self.df = self.df[self.df['fold'] == self.fold]\n",
        "        \n",
        "        self.on_epoch_end()\n",
        "        \n",
        "    def __len__(self):\n",
        "        return math.ceil(len(self.df) / self.batch_size)\n",
        "        \n",
        "    def __getitem__(self, idx):\n",
        "        strt = idx * self.batch_size\n",
        "        fin = (idx + 1) * self.batch_size\n",
        "        data = self.df.iloc[strt:fin]\n",
        "        \n",
        "        batch_x, batch_y = self.get_data(data)\n",
        "        \n",
        "        return np.array(batch_x), np.array(batch_y)\n",
        "        \n",
        "    def get_data(self, data):\n",
        "        batch_x = [ ]\n",
        "        batch_y = [ ]\n",
        "        \n",
        "        for _, r in data.iterrows():\n",
        "            file_name = r['file_name']\n",
        "            \n",
        "            image = cv2.imread(f'data/images/{file_name}.jpg')\n",
        "            image = cv2.cvtColor(image, cv2.COLOR_BGR2RGB)\n",
        "            \n",
        "            image = cv2.resize(image, (self.image_size, self.image_size))\n",
        "            image = image / 255.\n",
        "            \n",
        "            label = int(r['species']) - 1\n",
        "            \n",
        "            batch_x.append(image)\n",
        "            batch_y.append(label)\n",
        "        \n",
        "        return batch_x, batch_y\n",
        "\n",
        "    def on_epoch_end(self):\n",
        "        if self.shuffle:\n",
        "            self.df = self.df.sample(frac=1).reset_index(drop=True)"
      ],
      "metadata": {
        "id": "AyU_3dL6yoWD"
      },
      "execution_count": null,
      "outputs": []
    },
    {
      "cell_type": "code",
      "source": [
        "csv_path = '/content/drive/MyDrive/data/kfolds.csv'\n",
        "\n",
        "train_generator = DataGenerator(\n",
        "    batch_size=9, \n",
        "    csv_path=csv_path,\n",
        "    fold=1,\n",
        "    image_size=256,\n",
        "    mode='train',\n",
        "    shuffle=True\n",
        ")"
      ],
      "metadata": {
        "id": "ThxU4N6Qypjz"
      },
      "execution_count": null,
      "outputs": []
    },
    {
      "cell_type": "code",
      "source": [
        "print(len(train_generator))"
      ],
      "metadata": {
        "id": "7Rxx54XbyqZq",
        "colab": {
          "base_uri": "https://localhost:8080/"
        },
        "outputId": "4b77023e-f551-45fd-de0d-66ebb5e3259b"
      },
      "execution_count": null,
      "outputs": [
        {
          "output_type": "stream",
          "name": "stdout",
          "text": [
            "654\n"
          ]
        }
      ]
    },
    {
      "cell_type": "code",
      "source": [
        "class_name = ['Cat', 'Dog']\n",
        "\n",
        "for batch in train_generator:\n",
        "    X, y = batch\n",
        "    plt.figure(figsize=(15, 15))\n",
        "    \n",
        "    for i in range(9):\n",
        "        ax = plt.subplot(3, 3, i + 1)\n",
        "        plt.imshow(X[i])\n",
        "        plt.title(class_name[y[i]])\n",
        "        plt.axis('off')\n",
        "    \n",
        "    break"
      ],
      "metadata": {
        "id": "R2birUCAysUT",
        "colab": {
          "base_uri": "https://localhost:8080/",
          "height": 397
        },
        "outputId": "e4dd5dae-c7bf-43a0-ef83-a24159fd454c"
      },
      "execution_count": null,
      "outputs": [
        {
          "output_type": "error",
          "ename": "error",
          "evalue": "ignored",
          "traceback": [
            "\u001b[0;31m---------------------------------------------------------------------------\u001b[0m",
            "\u001b[0;31merror\u001b[0m                                     Traceback (most recent call last)",
            "\u001b[0;32m<ipython-input-74-2b0d0d113cef>\u001b[0m in \u001b[0;36m<module>\u001b[0;34m()\u001b[0m\n\u001b[1;32m      1\u001b[0m \u001b[0mclass_name\u001b[0m \u001b[0;34m=\u001b[0m \u001b[0;34m[\u001b[0m\u001b[0;34m'Cat'\u001b[0m\u001b[0;34m,\u001b[0m \u001b[0;34m'Dog'\u001b[0m\u001b[0;34m]\u001b[0m\u001b[0;34m\u001b[0m\u001b[0;34m\u001b[0m\u001b[0m\n\u001b[1;32m      2\u001b[0m \u001b[0;34m\u001b[0m\u001b[0m\n\u001b[0;32m----> 3\u001b[0;31m \u001b[0;32mfor\u001b[0m \u001b[0mbatch\u001b[0m \u001b[0;32min\u001b[0m \u001b[0mtrain_generator\u001b[0m\u001b[0;34m:\u001b[0m\u001b[0;34m\u001b[0m\u001b[0;34m\u001b[0m\u001b[0m\n\u001b[0m\u001b[1;32m      4\u001b[0m     \u001b[0mX\u001b[0m\u001b[0;34m,\u001b[0m \u001b[0my\u001b[0m \u001b[0;34m=\u001b[0m \u001b[0mbatch\u001b[0m\u001b[0;34m\u001b[0m\u001b[0;34m\u001b[0m\u001b[0m\n\u001b[1;32m      5\u001b[0m     \u001b[0mplt\u001b[0m\u001b[0;34m.\u001b[0m\u001b[0mfigure\u001b[0m\u001b[0;34m(\u001b[0m\u001b[0mfigsize\u001b[0m\u001b[0;34m=\u001b[0m\u001b[0;34m(\u001b[0m\u001b[0;36m15\u001b[0m\u001b[0;34m,\u001b[0m \u001b[0;36m15\u001b[0m\u001b[0;34m)\u001b[0m\u001b[0;34m)\u001b[0m\u001b[0;34m\u001b[0m\u001b[0;34m\u001b[0m\u001b[0m\n",
            "\u001b[0;32m/usr/local/lib/python3.7/dist-packages/keras/utils/data_utils.py\u001b[0m in \u001b[0;36m__iter__\u001b[0;34m(self)\u001b[0m\n\u001b[1;32m    484\u001b[0m   \u001b[0;32mdef\u001b[0m \u001b[0m__iter__\u001b[0m\u001b[0;34m(\u001b[0m\u001b[0mself\u001b[0m\u001b[0;34m)\u001b[0m\u001b[0;34m:\u001b[0m\u001b[0;34m\u001b[0m\u001b[0;34m\u001b[0m\u001b[0m\n\u001b[1;32m    485\u001b[0m     \u001b[0;34m\"\"\"Create a generator that iterate over the Sequence.\"\"\"\u001b[0m\u001b[0;34m\u001b[0m\u001b[0;34m\u001b[0m\u001b[0m\n\u001b[0;32m--> 486\u001b[0;31m     \u001b[0;32mfor\u001b[0m \u001b[0mitem\u001b[0m \u001b[0;32min\u001b[0m \u001b[0;34m(\u001b[0m\u001b[0mself\u001b[0m\u001b[0;34m[\u001b[0m\u001b[0mi\u001b[0m\u001b[0;34m]\u001b[0m \u001b[0;32mfor\u001b[0m \u001b[0mi\u001b[0m \u001b[0;32min\u001b[0m \u001b[0mrange\u001b[0m\u001b[0;34m(\u001b[0m\u001b[0mlen\u001b[0m\u001b[0;34m(\u001b[0m\u001b[0mself\u001b[0m\u001b[0;34m)\u001b[0m\u001b[0;34m)\u001b[0m\u001b[0;34m)\u001b[0m\u001b[0;34m:\u001b[0m\u001b[0;34m\u001b[0m\u001b[0;34m\u001b[0m\u001b[0m\n\u001b[0m\u001b[1;32m    487\u001b[0m       \u001b[0;32myield\u001b[0m \u001b[0mitem\u001b[0m\u001b[0;34m\u001b[0m\u001b[0;34m\u001b[0m\u001b[0m\n\u001b[1;32m    488\u001b[0m \u001b[0;34m\u001b[0m\u001b[0m\n",
            "\u001b[0;32m/usr/local/lib/python3.7/dist-packages/keras/utils/data_utils.py\u001b[0m in \u001b[0;36m<genexpr>\u001b[0;34m(.0)\u001b[0m\n\u001b[1;32m    484\u001b[0m   \u001b[0;32mdef\u001b[0m \u001b[0m__iter__\u001b[0m\u001b[0;34m(\u001b[0m\u001b[0mself\u001b[0m\u001b[0;34m)\u001b[0m\u001b[0;34m:\u001b[0m\u001b[0;34m\u001b[0m\u001b[0;34m\u001b[0m\u001b[0m\n\u001b[1;32m    485\u001b[0m     \u001b[0;34m\"\"\"Create a generator that iterate over the Sequence.\"\"\"\u001b[0m\u001b[0;34m\u001b[0m\u001b[0;34m\u001b[0m\u001b[0m\n\u001b[0;32m--> 486\u001b[0;31m     \u001b[0;32mfor\u001b[0m \u001b[0mitem\u001b[0m \u001b[0;32min\u001b[0m \u001b[0;34m(\u001b[0m\u001b[0mself\u001b[0m\u001b[0;34m[\u001b[0m\u001b[0mi\u001b[0m\u001b[0;34m]\u001b[0m \u001b[0;32mfor\u001b[0m \u001b[0mi\u001b[0m \u001b[0;32min\u001b[0m \u001b[0mrange\u001b[0m\u001b[0;34m(\u001b[0m\u001b[0mlen\u001b[0m\u001b[0;34m(\u001b[0m\u001b[0mself\u001b[0m\u001b[0;34m)\u001b[0m\u001b[0;34m)\u001b[0m\u001b[0;34m)\u001b[0m\u001b[0;34m:\u001b[0m\u001b[0;34m\u001b[0m\u001b[0;34m\u001b[0m\u001b[0m\n\u001b[0m\u001b[1;32m    487\u001b[0m       \u001b[0;32myield\u001b[0m \u001b[0mitem\u001b[0m\u001b[0;34m\u001b[0m\u001b[0;34m\u001b[0m\u001b[0m\n\u001b[1;32m    488\u001b[0m \u001b[0;34m\u001b[0m\u001b[0m\n",
            "\u001b[0;32m<ipython-input-71-3a0dbb84f290>\u001b[0m in \u001b[0;36m__getitem__\u001b[0;34m(self, idx)\u001b[0m\n\u001b[1;32m     26\u001b[0m         \u001b[0mdata\u001b[0m \u001b[0;34m=\u001b[0m \u001b[0mself\u001b[0m\u001b[0;34m.\u001b[0m\u001b[0mdf\u001b[0m\u001b[0;34m.\u001b[0m\u001b[0miloc\u001b[0m\u001b[0;34m[\u001b[0m\u001b[0mstrt\u001b[0m\u001b[0;34m:\u001b[0m\u001b[0mfin\u001b[0m\u001b[0;34m]\u001b[0m\u001b[0;34m\u001b[0m\u001b[0;34m\u001b[0m\u001b[0m\n\u001b[1;32m     27\u001b[0m \u001b[0;34m\u001b[0m\u001b[0m\n\u001b[0;32m---> 28\u001b[0;31m         \u001b[0mbatch_x\u001b[0m\u001b[0;34m,\u001b[0m \u001b[0mbatch_y\u001b[0m \u001b[0;34m=\u001b[0m \u001b[0mself\u001b[0m\u001b[0;34m.\u001b[0m\u001b[0mget_data\u001b[0m\u001b[0;34m(\u001b[0m\u001b[0mdata\u001b[0m\u001b[0;34m)\u001b[0m\u001b[0;34m\u001b[0m\u001b[0;34m\u001b[0m\u001b[0m\n\u001b[0m\u001b[1;32m     29\u001b[0m \u001b[0;34m\u001b[0m\u001b[0m\n\u001b[1;32m     30\u001b[0m         \u001b[0;32mreturn\u001b[0m \u001b[0mnp\u001b[0m\u001b[0;34m.\u001b[0m\u001b[0marray\u001b[0m\u001b[0;34m(\u001b[0m\u001b[0mbatch_x\u001b[0m\u001b[0;34m)\u001b[0m\u001b[0;34m,\u001b[0m \u001b[0mnp\u001b[0m\u001b[0;34m.\u001b[0m\u001b[0marray\u001b[0m\u001b[0;34m(\u001b[0m\u001b[0mbatch_y\u001b[0m\u001b[0;34m)\u001b[0m\u001b[0;34m\u001b[0m\u001b[0;34m\u001b[0m\u001b[0m\n",
            "\u001b[0;32m<ipython-input-71-3a0dbb84f290>\u001b[0m in \u001b[0;36mget_data\u001b[0;34m(self, data)\u001b[0m\n\u001b[1;32m     38\u001b[0m \u001b[0;34m\u001b[0m\u001b[0m\n\u001b[1;32m     39\u001b[0m             \u001b[0mimage\u001b[0m \u001b[0;34m=\u001b[0m \u001b[0mcv2\u001b[0m\u001b[0;34m.\u001b[0m\u001b[0mimread\u001b[0m\u001b[0;34m(\u001b[0m\u001b[0;34mf'data/images/{file_name}.jpg'\u001b[0m\u001b[0;34m)\u001b[0m\u001b[0;34m\u001b[0m\u001b[0;34m\u001b[0m\u001b[0m\n\u001b[0;32m---> 40\u001b[0;31m             \u001b[0mimage\u001b[0m \u001b[0;34m=\u001b[0m \u001b[0mcv2\u001b[0m\u001b[0;34m.\u001b[0m\u001b[0mcvtColor\u001b[0m\u001b[0;34m(\u001b[0m\u001b[0mimage\u001b[0m\u001b[0;34m,\u001b[0m \u001b[0mcv2\u001b[0m\u001b[0;34m.\u001b[0m\u001b[0mCOLOR_BGR2RGB\u001b[0m\u001b[0;34m)\u001b[0m\u001b[0;34m\u001b[0m\u001b[0;34m\u001b[0m\u001b[0m\n\u001b[0m\u001b[1;32m     41\u001b[0m \u001b[0;34m\u001b[0m\u001b[0m\n\u001b[1;32m     42\u001b[0m             \u001b[0mimage\u001b[0m \u001b[0;34m=\u001b[0m \u001b[0mcv2\u001b[0m\u001b[0;34m.\u001b[0m\u001b[0mresize\u001b[0m\u001b[0;34m(\u001b[0m\u001b[0mimage\u001b[0m\u001b[0;34m,\u001b[0m \u001b[0;34m(\u001b[0m\u001b[0mself\u001b[0m\u001b[0;34m.\u001b[0m\u001b[0mimage_size\u001b[0m\u001b[0;34m,\u001b[0m \u001b[0mself\u001b[0m\u001b[0;34m.\u001b[0m\u001b[0mimage_size\u001b[0m\u001b[0;34m)\u001b[0m\u001b[0;34m)\u001b[0m\u001b[0;34m\u001b[0m\u001b[0;34m\u001b[0m\u001b[0m\n",
            "\u001b[0;31merror\u001b[0m: OpenCV(4.1.2) /io/opencv/modules/imgproc/src/color.cpp:182: error: (-215:Assertion failed) !_src.empty() in function 'cvtColor'\n"
          ]
        }
      ]
    },
    {
      "cell_type": "markdown",
      "source": [
        "# Sequential"
      ],
      "metadata": {
        "id": "uQ63M4dA13l1"
      }
    },
    {
      "cell_type": "markdown",
      "source": [
        "```\n",
        "# From https://www.tensorflow.org/guide/keras/sequential_model\n",
        "# Define Sequential model with 3 layers\n",
        "model = keras.Sequential(\n",
        "    [\n",
        "        layers.Dense(2, activation=\"relu\", name=\"layer1\"),\n",
        "        layers.Dense(3, activation=\"relu\", name=\"layer2\"),\n",
        "        layers.Dense(4, name=\"layer3\"),\n",
        "    ]\n",
        ")\n",
        "# Call model on a test input\n",
        "x = tf.ones((3, 3))\n",
        "y = model(x)\n",
        "```\n",
        "\n",
        "A Sequential model is not appropriate when:\n",
        "\n",
        "*   Your model has multiple inputs or multiple outputs\n",
        "*   Any of your layers has multiple inputs or multiple outputs\n",
        "\n",
        "*   You need to do layer sharing\n",
        "*   You want non-linear topology (e.g. a residual connection, a multi-branch model)"
      ],
      "metadata": {
        "id": "b0HVCZe215VE"
      }
    },
    {
      "cell_type": "code",
      "source": [
        "from tensorflow import keras\n",
        "from tensorflow.keras import layers\n",
        "from tensorflow.keras import activations\n",
        "\n",
        "import os\n",
        "os.environ['CUDA_VISIBLE_DEVICES'] = '1'"
      ],
      "metadata": {
        "id": "HRdmDAXH12r8"
      },
      "execution_count": null,
      "outputs": []
    },
    {
      "cell_type": "code",
      "source": [
        "def get_sequential_model(input_shape): \n",
        "    model = keras.Sequential(\n",
        "        [\n",
        "            # Input\n",
        "            layers.Input(input_shape),\n",
        "            \n",
        "            # 1st Conv block\n",
        "            layers.Conv2D(64, 3, strides=1, activation='relu', padding='same'),\n",
        "            layers.Conv2D(64, 3, strides=1, activation='relu', padding='same'),\n",
        "            layers.MaxPool2D(),\n",
        "            layers.BatchNormalization(),\n",
        "            layers.Dropout(0.5),\n",
        "            \n",
        "            # 2nd Conv block\n",
        "            layers.Conv2D(128, 3, strides=1, activation='relu', padding='same'),\n",
        "            layers.Conv2D(128, 3, strides=1, activation='relu', padding='same'),\n",
        "            layers.MaxPool2D(),\n",
        "            layers.BatchNormalization(),\n",
        "            layers.Dropout(0.3),           \n",
        "            \n",
        "            # Classifier\n",
        "            layers.GlobalMaxPool2D(),\n",
        "            layers.Dense(128, activation='relu'),\n",
        "            layers.Dense(1, activation='sigmoid')\n",
        "        ]\n",
        "    )\n",
        "    \n",
        "    return model\n",
        "    \n",
        "\n",
        "input_shape = (256, 256, 3)\n",
        "model = get_sequential_model(input_shape)\n",
        "\n",
        "model.summary()"
      ],
      "metadata": {
        "id": "Oe7HPaN118pc",
        "colab": {
          "base_uri": "https://localhost:8080/"
        },
        "outputId": "abe72daf-829c-4f9e-dd5c-ae6031145fc2"
      },
      "execution_count": null,
      "outputs": [
        {
          "output_type": "stream",
          "name": "stdout",
          "text": [
            "Model: \"sequential\"\n",
            "_________________________________________________________________\n",
            " Layer (type)                Output Shape              Param #   \n",
            "=================================================================\n",
            " conv2d (Conv2D)             (None, 256, 256, 64)      1792      \n",
            "                                                                 \n",
            " conv2d_1 (Conv2D)           (None, 256, 256, 64)      36928     \n",
            "                                                                 \n",
            " max_pooling2d (MaxPooling2D  (None, 128, 128, 64)     0         \n",
            " )                                                               \n",
            "                                                                 \n",
            " batch_normalization (BatchN  (None, 128, 128, 64)     256       \n",
            " ormalization)                                                   \n",
            "                                                                 \n",
            " dropout (Dropout)           (None, 128, 128, 64)      0         \n",
            "                                                                 \n",
            " conv2d_2 (Conv2D)           (None, 128, 128, 128)     73856     \n",
            "                                                                 \n",
            " conv2d_3 (Conv2D)           (None, 128, 128, 128)     147584    \n",
            "                                                                 \n",
            " max_pooling2d_1 (MaxPooling  (None, 64, 64, 128)      0         \n",
            " 2D)                                                             \n",
            "                                                                 \n",
            " batch_normalization_1 (Batc  (None, 64, 64, 128)      512       \n",
            " hNormalization)                                                 \n",
            "                                                                 \n",
            " dropout_1 (Dropout)         (None, 64, 64, 128)       0         \n",
            "                                                                 \n",
            " global_max_pooling2d (Globa  (None, 128)              0         \n",
            " lMaxPooling2D)                                                  \n",
            "                                                                 \n",
            " dense (Dense)               (None, 128)               16512     \n",
            "                                                                 \n",
            " dense_1 (Dense)             (None, 1)                 129       \n",
            "                                                                 \n",
            "=================================================================\n",
            "Total params: 277,569\n",
            "Trainable params: 277,185\n",
            "Non-trainable params: 384\n",
            "_________________________________________________________________\n"
          ]
        }
      ]
    },
    {
      "cell_type": "markdown",
      "source": [
        "# Functional API"
      ],
      "metadata": {
        "id": "AfU5ObnU1-jM"
      }
    },
    {
      "cell_type": "code",
      "source": [
        "def get_functional_model(input_shape):\n",
        "    inputs = keras.Input(input_shape)\n",
        "    \n",
        "    # 1st Conv block\n",
        "    x = layers.Conv2D(64, 3, strides=1, activation='relu', padding='same')(inputs)\n",
        "    x = layers.Conv2D(64, 3, strides=1, activation='relu', padding='same')(x)\n",
        "    x = layers.MaxPool2D()(x)\n",
        "    x = layers.BatchNormalization()(x)\n",
        "    x = layers.Dropout(0.5)(x)\n",
        "\n",
        "    # 2nd Conv block\n",
        "    x = layers.Conv2D(128, 3, strides=1, activation='relu', padding='same')(x)\n",
        "    x = layers.Conv2D(128, 3, strides=1, activation='relu', padding='same')(x)\n",
        "    x = layers.MaxPool2D()(x)\n",
        "    x = layers.BatchNormalization()(x)\n",
        "    x = layers.Dropout(0.3)(x)\n",
        "\n",
        "    # Classifier\n",
        "    x = layers.GlobalMaxPool2D()(x)\n",
        "    x = layers.Dense(128, activation='relu')(x)\n",
        "    outputs = layers.Dense(1, activation='sigmoid')(x)\n",
        "    \n",
        "    model = keras.Model(inputs, outputs)\n",
        "    \n",
        "    return model\n",
        "\n",
        "input_shape = (256, 256, 3)\n",
        "model = get_functional_model(input_shape)\n",
        "\n",
        "model.summary()"
      ],
      "metadata": {
        "id": "0rvj8ZuQ2AlM",
        "colab": {
          "base_uri": "https://localhost:8080/"
        },
        "outputId": "c8ae04bf-9012-4399-8bc7-57eb73786e5c"
      },
      "execution_count": null,
      "outputs": [
        {
          "output_type": "stream",
          "name": "stdout",
          "text": [
            "Model: \"model\"\n",
            "_________________________________________________________________\n",
            " Layer (type)                Output Shape              Param #   \n",
            "=================================================================\n",
            " input_2 (InputLayer)        [(None, 256, 256, 3)]     0         \n",
            "                                                                 \n",
            " conv2d_4 (Conv2D)           (None, 256, 256, 64)      1792      \n",
            "                                                                 \n",
            " conv2d_5 (Conv2D)           (None, 256, 256, 64)      36928     \n",
            "                                                                 \n",
            " max_pooling2d_2 (MaxPooling  (None, 128, 128, 64)     0         \n",
            " 2D)                                                             \n",
            "                                                                 \n",
            " batch_normalization_2 (Batc  (None, 128, 128, 64)     256       \n",
            " hNormalization)                                                 \n",
            "                                                                 \n",
            " dropout_2 (Dropout)         (None, 128, 128, 64)      0         \n",
            "                                                                 \n",
            " conv2d_6 (Conv2D)           (None, 128, 128, 128)     73856     \n",
            "                                                                 \n",
            " conv2d_7 (Conv2D)           (None, 128, 128, 128)     147584    \n",
            "                                                                 \n",
            " max_pooling2d_3 (MaxPooling  (None, 64, 64, 128)      0         \n",
            " 2D)                                                             \n",
            "                                                                 \n",
            " batch_normalization_3 (Batc  (None, 64, 64, 128)      512       \n",
            " hNormalization)                                                 \n",
            "                                                                 \n",
            " dropout_3 (Dropout)         (None, 64, 64, 128)       0         \n",
            "                                                                 \n",
            " global_max_pooling2d_1 (Glo  (None, 128)              0         \n",
            " balMaxPooling2D)                                                \n",
            "                                                                 \n",
            " dense_2 (Dense)             (None, 128)               16512     \n",
            "                                                                 \n",
            " dense_3 (Dense)             (None, 1)                 129       \n",
            "                                                                 \n",
            "=================================================================\n",
            "Total params: 277,569\n",
            "Trainable params: 277,185\n",
            "Non-trainable params: 384\n",
            "_________________________________________________________________\n"
          ]
        }
      ]
    },
    {
      "cell_type": "markdown",
      "source": [
        "# Model subclassing"
      ],
      "metadata": {
        "id": "DAReNYpa2B98"
      }
    },
    {
      "cell_type": "markdown",
      "source": [
        "*   It exposes built-in training, evaluation, and prediction loops `(model.fit(), model.evaluate(), model.predict())`.\n",
        "*   It exposes the list of its inner layers, via the model.layers property.\n",
        "*   It exposes saving and serialization APIs (`save()`, `save_weights()`...)\n",
        "\n"
      ],
      "metadata": {
        "id": "ZnjTjXpd2DU8"
      }
    },
    {
      "cell_type": "code",
      "source": [
        "class SimpleCNN(keras.Model):\n",
        "    def __init__(self):\n",
        "        super(SimpleCNN, self).__init__()\n",
        "        \n",
        "        self.conv_block_1 = keras.Sequential(\n",
        "            [\n",
        "                layers.Conv2D(64, 3, strides=1, activation='relu', padding='same'), \n",
        "                layers.Conv2D(64, 3, strides=1, activation='relu', padding='same'), \n",
        "                layers.MaxPool2D(),\n",
        "                layers.BatchNormalization(),\n",
        "                layers.Dropout(0.5)             \n",
        "            ], name='conv_block_1'\n",
        "        )\n",
        "        \n",
        "        self.conv_block_2 = keras.Sequential(\n",
        "            [\n",
        "                layers.Conv2D(128, 3, strides=1, activation='relu', padding='same'),\n",
        "                layers.Conv2D(128, 3, strides=1, activation='relu', padding='same'),\n",
        "                layers.MaxPool2D(),\n",
        "                layers.BatchNormalization(),\n",
        "                layers.Dropout(0.3)                        \n",
        "            ], name='conv_block_2'\n",
        "        )\n",
        "        \n",
        "        self.classifier = keras.Sequential(\n",
        "            [\n",
        "                layers.GlobalMaxPool2D(),\n",
        "                layers.Dense(128, activation='relu'),\n",
        "                layers.Dense(1, activation='sigmoid')\n",
        "            ], name='classifier'\n",
        "        )\n",
        "    \n",
        "    def call(self, input_tensor, training=False):\n",
        "        x = self.conv_block_1(input_tensor)\n",
        "        x = self.conv_block_2(x)\n",
        "        x = self.classifier(x)\n",
        "        \n",
        "        return x"
      ],
      "metadata": {
        "id": "FiFZh6yw2FWn"
      },
      "execution_count": null,
      "outputs": []
    },
    {
      "cell_type": "code",
      "source": [
        "# summary\n",
        "input_shape = (None, 256, 256, 3)\n",
        "model = SimpleCNN()\n",
        "model.build(input_shape)\n",
        "\n",
        "model.summary()"
      ],
      "metadata": {
        "id": "WqPwunuN2GfH",
        "colab": {
          "base_uri": "https://localhost:8080/"
        },
        "outputId": "2349de08-982c-4070-d2b9-1768649f9685"
      },
      "execution_count": null,
      "outputs": [
        {
          "output_type": "stream",
          "name": "stdout",
          "text": [
            "Model: \"simple_cnn\"\n",
            "_________________________________________________________________\n",
            " Layer (type)                Output Shape              Param #   \n",
            "=================================================================\n",
            " conv_block_1 (Sequential)   (None, 128, 128, 64)      38976     \n",
            "                                                                 \n",
            " conv_block_2 (Sequential)   (None, 64, 64, 128)       221952    \n",
            "                                                                 \n",
            " classifier (Sequential)     (None, 1)                 16641     \n",
            "                                                                 \n",
            "=================================================================\n",
            "Total params: 277,569\n",
            "Trainable params: 277,185\n",
            "Non-trainable params: 384\n",
            "_________________________________________________________________\n"
          ]
        }
      ]
    },
    {
      "cell_type": "markdown",
      "source": [
        "# Model compiling"
      ],
      "metadata": {
        "id": "Fgiy-Rmh2HLU"
      }
    },
    {
      "cell_type": "code",
      "source": [
        "model.compile(\n",
        "    optimizer='adam',\n",
        "    loss='binary_crossentropy',\n",
        "    metrics='accuracy'\n",
        ")"
      ],
      "metadata": {
        "id": "29qLxXC_2NRN"
      },
      "execution_count": null,
      "outputs": []
    },
    {
      "cell_type": "markdown",
      "source": [
        "## Training Script"
      ],
      "metadata": {
        "id": "z7WhVrxZY05K"
      }
    },
    {
      "cell_type": "code",
      "source": [
        "import os\n",
        "import math\n",
        "\n",
        "import cv2\n",
        "import numpy as np\n",
        "import pandas as pd\n",
        "import tensorflow as tf\n",
        "\n",
        "from tensorflow import keras\n",
        "from tensorflow.keras import layers\n",
        "from tensorflow.keras import activations\n",
        "\n",
        "os.environ['CUDA_VISIBLE_DEVICES'] = '1'"
      ],
      "metadata": {
        "id": "nqA4torOYz-D"
      },
      "execution_count": null,
      "outputs": []
    },
    {
      "cell_type": "code",
      "source": [
        "def get_sequential_model(input_shape):\n",
        "    model = keras.Sequential(\n",
        "        [\n",
        "            # Input\n",
        "            layers.Input(input_shape),\n",
        "\n",
        "            # 1st Conv block\n",
        "            layers.Conv2D(64, 3, strides=1, activation='relu', padding='same'),\n",
        "            layers.Conv2D(64, 3, strides=1, activation='relu', padding='same'),\n",
        "            layers.MaxPool2D(),\n",
        "            layers.BatchNormalization(),\n",
        "            layers.Dropout(0.5),\n",
        "\n",
        "            # 2nd Conv block\n",
        "            layers.Conv2D(128, 3, strides=1, activation='relu', padding='same'),\n",
        "            layers.Conv2D(128, 3, strides=1, activation='relu', padding='same'),\n",
        "            layers.MaxPool2D(),\n",
        "            layers.BatchNormalization(),\n",
        "            layers.Dropout(0.3),\n",
        "        \n",
        "            # Classfier\n",
        "            layers.GlobalMaxPool2D(),\n",
        "            layers.Dense(128, activation='relu'),\n",
        "            layers.Dense(1, activation='sigmoid')\n",
        "        ]\n",
        "    )\n",
        "\n",
        "    return model\n",
        "\n",
        "input_shape = (256, 256, 3)\n",
        "model = get_sequential_model(input_shape)\n",
        "\n",
        "model.compile(\n",
        "    optimizer='adam',\n",
        "    loss='binary_crossentropy',\n",
        "    metrics='accuracy'\n",
        ")\n",
        "\n",
        "model.summary()"
      ],
      "metadata": {
        "id": "E8CE7o9qY5aL",
        "colab": {
          "base_uri": "https://localhost:8080/"
        },
        "outputId": "6fef031a-ec32-4bf5-dd56-9a44b0da330f"
      },
      "execution_count": null,
      "outputs": [
        {
          "output_type": "stream",
          "name": "stdout",
          "text": [
            "Model: \"sequential_1\"\n",
            "_________________________________________________________________\n",
            " Layer (type)                Output Shape              Param #   \n",
            "=================================================================\n",
            " conv2d_12 (Conv2D)          (None, 256, 256, 64)      1792      \n",
            "                                                                 \n",
            " conv2d_13 (Conv2D)          (None, 256, 256, 64)      36928     \n",
            "                                                                 \n",
            " max_pooling2d_6 (MaxPooling  (None, 128, 128, 64)     0         \n",
            " 2D)                                                             \n",
            "                                                                 \n",
            " batch_normalization_6 (Batc  (None, 128, 128, 64)     256       \n",
            " hNormalization)                                                 \n",
            "                                                                 \n",
            " dropout_6 (Dropout)         (None, 128, 128, 64)      0         \n",
            "                                                                 \n",
            " conv2d_14 (Conv2D)          (None, 128, 128, 128)     73856     \n",
            "                                                                 \n",
            " conv2d_15 (Conv2D)          (None, 128, 128, 128)     147584    \n",
            "                                                                 \n",
            " max_pooling2d_7 (MaxPooling  (None, 64, 64, 128)      0         \n",
            " 2D)                                                             \n",
            "                                                                 \n",
            " batch_normalization_7 (Batc  (None, 64, 64, 128)      512       \n",
            " hNormalization)                                                 \n",
            "                                                                 \n",
            " dropout_7 (Dropout)         (None, 64, 64, 128)       0         \n",
            "                                                                 \n",
            " global_max_pooling2d_3 (Glo  (None, 128)              0         \n",
            " balMaxPooling2D)                                                \n",
            "                                                                 \n",
            " dense_6 (Dense)             (None, 128)               16512     \n",
            "                                                                 \n",
            " dense_7 (Dense)             (None, 1)                 129       \n",
            "                                                                 \n",
            "=================================================================\n",
            "Total params: 277,569\n",
            "Trainable params: 277,185\n",
            "Non-trainable params: 384\n",
            "_________________________________________________________________\n"
          ]
        }
      ]
    },
    {
      "cell_type": "markdown",
      "source": [
        "From:  \n",
        "https://github.com/tensorflow/models/issues/3134"
      ],
      "metadata": {
        "id": "t_ruFgzDZgCR"
      }
    },
    {
      "cell_type": "code",
      "source": [
        "class DataGenerator(keras.utils.Sequence):\n",
        "    def __init__(self, batch_size, csv_path, image_size,\n",
        "                 fold, mode='train', shuffle=True):\n",
        "        self.batch_size = batch_size\n",
        "        self.image_size = image_size\n",
        "        self.shuffle = shuffle\n",
        "        self.fold = fold\n",
        "        self.mode = mode\n",
        "        \n",
        "        self.df = pd.read_csv(csv_path)\n",
        "        \n",
        "        if self.mode == 'train':\n",
        "            self.df = self.df[self.df['fold'] != self.fold]\n",
        "        elif self.mode == 'val':\n",
        "            self.df = self.df[self.df['fold'] == self.fold]\n",
        "        \n",
        "        #### Remove invalid files\n",
        "        invalid_filenames = [\n",
        "            'Egyptian_Mau_14',\n",
        "            'Egyptian_Mau_139',\n",
        "            'Egyptian_Mau_145',\n",
        "            'Egyptian_Mau_156',\n",
        "            'Egyptian_Mau_167',\n",
        "            'Egyptian_Mau_177',\n",
        "            'Egyptian_Mau_186',\n",
        "            'Egyptian_Mau_191',\n",
        "            'Abyssinian_5',\n",
        "            'Abyssinian_34',\n",
        "            'chihuahua_121',\n",
        "            'beagle_116'\n",
        "        ]\n",
        "        self.df = self.df[~self.df['file_name']. \\\n",
        "                          isin(invalid_filenames)]\n",
        "        self.on_epoch_end()\n",
        "            \n",
        "    def __len__(self):\n",
        "        return math.ceil(len(self.df) / self.batch_size)\n",
        "        \n",
        "    def __getitem__(self, idx):\n",
        "        strt = idx * self.batch_size\n",
        "        fin = (idx + 1) * self.batch_size\n",
        "        data = self.df.iloc[strt:fin]\n",
        "        \n",
        "        batch_x, batch_y = self.get_data(data)\n",
        "        \n",
        "        return np.array(batch_x), np.array(batch_y)\n",
        "        \n",
        "    def get_data(self, data):\n",
        "        batch_x = [ ]\n",
        "        batch_y = [ ]\n",
        "        \n",
        "        for _, r in data.iterrows():\n",
        "            file_name = r['file_name']\n",
        "            \n",
        "            image = cv2.imread(f'data/images/{file_name}.jpg')\n",
        "            image = cv2.cvtColor(image, cv2.COLOR_BGR2RGB)\n",
        "            \n",
        "            image = cv2.resize(image, (self.image_size, self.image_size))\n",
        "            image = image / 255.\n",
        "            \n",
        "            label = int(r['species']) - 1\n",
        "            \n",
        "            batch_x.append(image)\n",
        "            batch_y.append(label)\n",
        "        \n",
        "        return batch_x, batch_y\n",
        "\n",
        "    def on_epoch_end(self):\n",
        "        if self.shuffle:\n",
        "            self.df = self.df.sample(frac=1).reset_index(drop=True)"
      ],
      "metadata": {
        "id": "UypIuGf9Y7c0"
      },
      "execution_count": null,
      "outputs": []
    },
    {
      "cell_type": "code",
      "source": [
        "csv_path = '/content/drive/MyDrive/data/kfolds.csv'\n",
        "train_generator = DataGenerator(\n",
        "    fold=1,\n",
        "    mode='train',\n",
        "    csv_path=csv_path,\n",
        "    batch_size=128,\n",
        "    image_size=256,\n",
        "    shuffle=True)\n",
        "\n",
        "valid_generator = DataGenerator(\n",
        "    fold=1,\n",
        "    mode='val',\n",
        "    csv_path=csv_path,\n",
        "    batch_size=128,\n",
        "    image_size=256,\n",
        "    shuffle=True)"
      ],
      "metadata": {
        "id": "05Ywx8vSY8Ck"
      },
      "execution_count": null,
      "outputs": []
    },
    {
      "cell_type": "markdown",
      "source": [
        "## EarlyStopping\n",
        "\n",
        "From: https://keras.io/api/callbacks/early_stopping/"
      ],
      "metadata": {
        "id": "MhHcfHRiHKKZ"
      }
    },
    {
      "cell_type": "code",
      "source": [
        "from tensorflow.keras.callbacks import EarlyStopping, ReduceLROnPlateau, ModelCheckpoint"
      ],
      "metadata": {
        "id": "-SMLB6eFH6eT"
      },
      "execution_count": null,
      "outputs": []
    },
    {
      "cell_type": "code",
      "source": [
        "early_stopping = EarlyStopping(monitor='val_loss',\n",
        "                                   min_delta=0,\n",
        "                                   patience=5,\n",
        "                                   verbose=0, mode='auto')\n",
        "reduce_on_plateau = ReduceLROnPlateau(monitor='val_loss', \n",
        "                                      factor=0.1, \n",
        "                                      patience=3, \n",
        "                                      verbose=1, mode='auto', min_lr=10e-7)\n",
        "checkpoint = ModelCheckpoint(filepath='/tmp/ctpn.{epoch:03d}.h5',\n",
        "                                 monitor='val_loss',\n",
        "                                 verbose=1,\n",
        "                                 save_best_only=False,\n",
        "                                 save_weights_only=True,\n",
        "                                 period=5)"
      ],
      "metadata": {
        "colab": {
          "base_uri": "https://localhost:8080/"
        },
        "id": "5N-Mc7eLIjct",
        "outputId": "6e110c34-d713-43dd-ed0b-8a67ca19bfb7"
      },
      "execution_count": null,
      "outputs": [
        {
          "output_type": "stream",
          "name": "stdout",
          "text": [
            "WARNING:tensorflow:`period` argument is deprecated. Please use `save_freq` to specify the frequency in number of batches seen.\n"
          ]
        }
      ]
    },
    {
      "cell_type": "code",
      "source": [
        "history = model.fit(\n",
        "    train_generator,\n",
        "    validation_generator=valid_generator,\n",
        "    epochs=10,\n",
        "    callbacks=[\n",
        "        early_stopping,\n",
        "        reduce_on_plateau,\n",
        "        model_checkpoint\n",
        "    ]\n",
        "    verbose=1\n",
        ")"
      ],
      "metadata": {
        "colab": {
          "base_uri": "https://localhost:8080/",
          "height": 130
        },
        "id": "FZ8hzeDuKn1q",
        "outputId": "a5d0b7c9-1292-49b9-9442-a2bb70c0ee33"
      },
      "execution_count": null,
      "outputs": [
        {
          "output_type": "error",
          "ename": "SyntaxError",
          "evalue": "ignored",
          "traceback": [
            "\u001b[0;36m  File \u001b[0;32m\"<ipython-input-100-7494195924af>\"\u001b[0;36m, line \u001b[0;32m10\u001b[0m\n\u001b[0;31m    verbose=1\u001b[0m\n\u001b[0m          ^\u001b[0m\n\u001b[0;31mSyntaxError\u001b[0m\u001b[0;31m:\u001b[0m invalid syntax\n"
          ]
        }
      ]
    },
    {
      "cell_type": "markdown",
      "source": [
        "# Callback functions"
      ],
      "metadata": {
        "id": "Q1nwmuyjY-vs"
      }
    },
    {
      "cell_type": "markdown",
      "source": [
        "```\n",
        "callbacks =  tf.keras.callbacks.CallbackList([...])\n",
        "callbacks.append(...)\n",
        "\n",
        "callbacks.on_train_begin(...)\n",
        "for epoch in range(EPOCHS):\n",
        "  callbacks.on_epoch_begin(epoch)\n",
        "  for i, data in dataset.enumerate():\n",
        "    callbacks.on_train_batch_begin(i)\n",
        "    batch_logs = model.train_step(data)\n",
        "    callbacks.on_train_batch_end(i, batch_logs)\n",
        "  epoch_logs = ...\n",
        "  callbacks.on_epoch_end(epoch, epoch_logs)\n",
        "final_logs=...\n",
        "callbacks.on_train_end(final_logs)\n",
        "```\n",
        "\n",
        "*   ```on_train_begin```\n",
        "*   ```on_epoch_begin```\n",
        "*   ```on_train_batch_begin```\n",
        "*   ```on_train_batch_end```\n",
        "*   ```on_epoch_end```\n",
        "*   ```on_train_end```\n",
        "\n",
        "\n",
        "*   ```keras.Model.fit()```\n",
        "*   ```keras.Model.evaluate()```\n",
        "*   ```keras.Model.predict()```"
      ],
      "metadata": {
        "id": "XJ6TdLeKZGXV"
      }
    },
    {
      "cell_type": "code",
      "source": [
        "early_stopping = tf.keras.callbacks.EarlyStopping(\n",
        "    monitor='val_loss', patience=3, verbose=1,\n",
        "    mode='min', restore_best_weights=False\n",
        ")"
      ],
      "metadata": {
        "id": "mDlId8CAZCcj"
      },
      "execution_count": null,
      "outputs": []
    },
    {
      "cell_type": "code",
      "source": [
        "reduce_on_plateau = tf.keras.callbacks.ReduceLROnPlateau(\n",
        "    monitor='val_loss', factor=0.1, patience=10, verbose=1,\n",
        "    mode='min', min_lr=0.001\n",
        ")"
      ],
      "metadata": {
        "id": "y4dGKqQsZKB3"
      },
      "execution_count": null,
      "outputs": []
    },
    {
      "cell_type": "code",
      "source": [
        "filepath = '{epoch:02d}-{val_loss:.2f}.hdf5'\n",
        "model_checkpoint = tf.keras.callbacks.ModelCheckpoint(\n",
        "    filepath, monitor='val_loss', verbose=1, save_best_only=True,\n",
        "    save_weights_only=False, mode='min'\n",
        ")"
      ],
      "metadata": {
        "id": "ujfw6wD4ZK59"
      },
      "execution_count": null,
      "outputs": []
    },
    {
      "cell_type": "code",
      "source": [
        "history = model.fit(\n",
        "    train_generator,\n",
        "    validation_data=valid_generator,\n",
        "    epochs=10,\n",
        "    callbacks=[\n",
        "        early_stopping,\n",
        "        reduce_on_plateau,\n",
        "        model_checkpoint\n",
        "    ],\n",
        "    verbose=1\n",
        ")"
      ],
      "metadata": {
        "id": "Md4gmcnsZLuF",
        "colab": {
          "base_uri": "https://localhost:8080/",
          "height": 380
        },
        "outputId": "c0b3695d-5858-484e-b40e-3f01ec3ee128"
      },
      "execution_count": null,
      "outputs": [
        {
          "output_type": "error",
          "ename": "error",
          "evalue": "ignored",
          "traceback": [
            "\u001b[0;31m---------------------------------------------------------------------------\u001b[0m",
            "\u001b[0;31merror\u001b[0m                                     Traceback (most recent call last)",
            "\u001b[0;32m<ipython-input-104-d4495ffd72b9>\u001b[0m in \u001b[0;36m<module>\u001b[0;34m()\u001b[0m\n\u001b[1;32m      8\u001b[0m         \u001b[0mmodel_checkpoint\u001b[0m\u001b[0;34m\u001b[0m\u001b[0;34m\u001b[0m\u001b[0m\n\u001b[1;32m      9\u001b[0m     ],\n\u001b[0;32m---> 10\u001b[0;31m     \u001b[0mverbose\u001b[0m\u001b[0;34m=\u001b[0m\u001b[0;36m1\u001b[0m\u001b[0;34m\u001b[0m\u001b[0;34m\u001b[0m\u001b[0m\n\u001b[0m\u001b[1;32m     11\u001b[0m )\n",
            "\u001b[0;32m/usr/local/lib/python3.7/dist-packages/keras/utils/traceback_utils.py\u001b[0m in \u001b[0;36merror_handler\u001b[0;34m(*args, **kwargs)\u001b[0m\n\u001b[1;32m     65\u001b[0m     \u001b[0;32mexcept\u001b[0m \u001b[0mException\u001b[0m \u001b[0;32mas\u001b[0m \u001b[0me\u001b[0m\u001b[0;34m:\u001b[0m  \u001b[0;31m# pylint: disable=broad-except\u001b[0m\u001b[0;34m\u001b[0m\u001b[0;34m\u001b[0m\u001b[0m\n\u001b[1;32m     66\u001b[0m       \u001b[0mfiltered_tb\u001b[0m \u001b[0;34m=\u001b[0m \u001b[0m_process_traceback_frames\u001b[0m\u001b[0;34m(\u001b[0m\u001b[0me\u001b[0m\u001b[0;34m.\u001b[0m\u001b[0m__traceback__\u001b[0m\u001b[0;34m)\u001b[0m\u001b[0;34m\u001b[0m\u001b[0;34m\u001b[0m\u001b[0m\n\u001b[0;32m---> 67\u001b[0;31m       \u001b[0;32mraise\u001b[0m \u001b[0me\u001b[0m\u001b[0;34m.\u001b[0m\u001b[0mwith_traceback\u001b[0m\u001b[0;34m(\u001b[0m\u001b[0mfiltered_tb\u001b[0m\u001b[0;34m)\u001b[0m \u001b[0;32mfrom\u001b[0m \u001b[0;32mNone\u001b[0m\u001b[0;34m\u001b[0m\u001b[0;34m\u001b[0m\u001b[0m\n\u001b[0m\u001b[1;32m     68\u001b[0m     \u001b[0;32mfinally\u001b[0m\u001b[0;34m:\u001b[0m\u001b[0;34m\u001b[0m\u001b[0;34m\u001b[0m\u001b[0m\n\u001b[1;32m     69\u001b[0m       \u001b[0;32mdel\u001b[0m \u001b[0mfiltered_tb\u001b[0m\u001b[0;34m\u001b[0m\u001b[0;34m\u001b[0m\u001b[0m\n",
            "\u001b[0;32m<ipython-input-83-2962ac76d1e4>\u001b[0m in \u001b[0;36m__getitem__\u001b[0;34m(self, idx)\u001b[0m\n\u001b[1;32m     41\u001b[0m         \u001b[0mdata\u001b[0m \u001b[0;34m=\u001b[0m \u001b[0mself\u001b[0m\u001b[0;34m.\u001b[0m\u001b[0mdf\u001b[0m\u001b[0;34m.\u001b[0m\u001b[0miloc\u001b[0m\u001b[0;34m[\u001b[0m\u001b[0mstrt\u001b[0m\u001b[0;34m:\u001b[0m\u001b[0mfin\u001b[0m\u001b[0;34m]\u001b[0m\u001b[0;34m\u001b[0m\u001b[0;34m\u001b[0m\u001b[0m\n\u001b[1;32m     42\u001b[0m \u001b[0;34m\u001b[0m\u001b[0m\n\u001b[0;32m---> 43\u001b[0;31m         \u001b[0mbatch_x\u001b[0m\u001b[0;34m,\u001b[0m \u001b[0mbatch_y\u001b[0m \u001b[0;34m=\u001b[0m \u001b[0mself\u001b[0m\u001b[0;34m.\u001b[0m\u001b[0mget_data\u001b[0m\u001b[0;34m(\u001b[0m\u001b[0mdata\u001b[0m\u001b[0;34m)\u001b[0m\u001b[0;34m\u001b[0m\u001b[0;34m\u001b[0m\u001b[0m\n\u001b[0m\u001b[1;32m     44\u001b[0m \u001b[0;34m\u001b[0m\u001b[0m\n\u001b[1;32m     45\u001b[0m         \u001b[0;32mreturn\u001b[0m \u001b[0mnp\u001b[0m\u001b[0;34m.\u001b[0m\u001b[0marray\u001b[0m\u001b[0;34m(\u001b[0m\u001b[0mbatch_x\u001b[0m\u001b[0;34m)\u001b[0m\u001b[0;34m,\u001b[0m \u001b[0mnp\u001b[0m\u001b[0;34m.\u001b[0m\u001b[0marray\u001b[0m\u001b[0;34m(\u001b[0m\u001b[0mbatch_y\u001b[0m\u001b[0;34m)\u001b[0m\u001b[0;34m\u001b[0m\u001b[0;34m\u001b[0m\u001b[0m\n",
            "\u001b[0;32m<ipython-input-83-2962ac76d1e4>\u001b[0m in \u001b[0;36mget_data\u001b[0;34m(self, data)\u001b[0m\n\u001b[1;32m     53\u001b[0m \u001b[0;34m\u001b[0m\u001b[0m\n\u001b[1;32m     54\u001b[0m             \u001b[0mimage\u001b[0m \u001b[0;34m=\u001b[0m \u001b[0mcv2\u001b[0m\u001b[0;34m.\u001b[0m\u001b[0mimread\u001b[0m\u001b[0;34m(\u001b[0m\u001b[0;34mf'data/images/{file_name}.jpg'\u001b[0m\u001b[0;34m)\u001b[0m\u001b[0;34m\u001b[0m\u001b[0;34m\u001b[0m\u001b[0m\n\u001b[0;32m---> 55\u001b[0;31m             \u001b[0mimage\u001b[0m \u001b[0;34m=\u001b[0m \u001b[0mcv2\u001b[0m\u001b[0;34m.\u001b[0m\u001b[0mcvtColor\u001b[0m\u001b[0;34m(\u001b[0m\u001b[0mimage\u001b[0m\u001b[0;34m,\u001b[0m \u001b[0mcv2\u001b[0m\u001b[0;34m.\u001b[0m\u001b[0mCOLOR_BGR2RGB\u001b[0m\u001b[0;34m)\u001b[0m\u001b[0;34m\u001b[0m\u001b[0;34m\u001b[0m\u001b[0m\n\u001b[0m\u001b[1;32m     56\u001b[0m \u001b[0;34m\u001b[0m\u001b[0m\n\u001b[1;32m     57\u001b[0m             \u001b[0mimage\u001b[0m \u001b[0;34m=\u001b[0m \u001b[0mcv2\u001b[0m\u001b[0;34m.\u001b[0m\u001b[0mresize\u001b[0m\u001b[0;34m(\u001b[0m\u001b[0mimage\u001b[0m\u001b[0;34m,\u001b[0m \u001b[0;34m(\u001b[0m\u001b[0mself\u001b[0m\u001b[0;34m.\u001b[0m\u001b[0mimage_size\u001b[0m\u001b[0;34m,\u001b[0m \u001b[0mself\u001b[0m\u001b[0;34m.\u001b[0m\u001b[0mimage_size\u001b[0m\u001b[0;34m)\u001b[0m\u001b[0;34m)\u001b[0m\u001b[0;34m\u001b[0m\u001b[0;34m\u001b[0m\u001b[0m\n",
            "\u001b[0;31merror\u001b[0m: OpenCV(4.1.2) /io/opencv/modules/imgproc/src/color.cpp:182: error: (-215:Assertion failed) !_src.empty() in function 'cvtColor'\n"
          ]
        }
      ]
    },
    {
      "cell_type": "markdown",
      "source": [
        "The training loop was running utill 5tth epoch due to early stopping. As you can see that improvement also stop after 2nd epoch running so that the model performance is not very good."
      ],
      "metadata": {
        "id": "SOXjkk-KehIi"
      }
    },
    {
      "cell_type": "code",
      "source": [
        "# 빼기\n",
        "\n",
        "import matplotlib.pyplot as plt\n",
        "history = history.history\n",
        "\n",
        "plt.figure(figsize=(15, 5))\n",
        "plt.subplot(1, 2, 1)\n",
        "plt.plot(history['loss'], label='train')\n",
        "plt.plot(history['val_loss'], label='val')\n",
        "plt.legend()\n",
        "plt.xlabel('epoch')\n",
        "plt.ylabel('loss')\n",
        "plt.title(\"Loss\")\n",
        "\n",
        "plt.subplot(1, 2, 2)\n",
        "plt.plot(history['accuracy'], label='train')\n",
        "plt.plot(history['val_accuracy'], label='val')\n",
        "plt.legend()\n",
        "plt.xlabel('epoch')\n",
        "plt.ylabel('accuracy')\n",
        "plt.title(\"Accuracy\")\n",
        "plt.show()"
      ],
      "metadata": {
        "id": "_JeYxpQuZM99",
        "colab": {
          "base_uri": "https://localhost:8080/",
          "height": 235
        },
        "outputId": "c12cd001-fe6c-454d-ac4d-66eb47911027"
      },
      "execution_count": null,
      "outputs": [
        {
          "output_type": "error",
          "ename": "NameError",
          "evalue": "ignored",
          "traceback": [
            "\u001b[0;31m---------------------------------------------------------------------------\u001b[0m",
            "\u001b[0;31mNameError\u001b[0m                                 Traceback (most recent call last)",
            "\u001b[0;32m<ipython-input-108-d8d21bc60226>\u001b[0m in \u001b[0;36m<module>\u001b[0;34m()\u001b[0m\n\u001b[1;32m      2\u001b[0m \u001b[0;34m\u001b[0m\u001b[0m\n\u001b[1;32m      3\u001b[0m \u001b[0;32mimport\u001b[0m \u001b[0mmatplotlib\u001b[0m\u001b[0;34m.\u001b[0m\u001b[0mpyplot\u001b[0m \u001b[0;32mas\u001b[0m \u001b[0mplt\u001b[0m\u001b[0;34m\u001b[0m\u001b[0;34m\u001b[0m\u001b[0m\n\u001b[0;32m----> 4\u001b[0;31m \u001b[0mhistory\u001b[0m \u001b[0;34m=\u001b[0m \u001b[0mhistory\u001b[0m\u001b[0;34m.\u001b[0m\u001b[0mhistory\u001b[0m\u001b[0;34m\u001b[0m\u001b[0;34m\u001b[0m\u001b[0m\n\u001b[0m\u001b[1;32m      5\u001b[0m \u001b[0;34m\u001b[0m\u001b[0m\n\u001b[1;32m      6\u001b[0m \u001b[0mplt\u001b[0m\u001b[0;34m.\u001b[0m\u001b[0mfigure\u001b[0m\u001b[0;34m(\u001b[0m\u001b[0mfigsize\u001b[0m\u001b[0;34m=\u001b[0m\u001b[0;34m(\u001b[0m\u001b[0;36m15\u001b[0m\u001b[0;34m,\u001b[0m \u001b[0;36m5\u001b[0m\u001b[0;34m)\u001b[0m\u001b[0;34m)\u001b[0m\u001b[0;34m\u001b[0m\u001b[0;34m\u001b[0m\u001b[0m\n",
            "\u001b[0;31mNameError\u001b[0m: name 'history' is not defined"
          ]
        }
      ]
    },
    {
      "cell_type": "markdown",
      "source": [
        "# Data Augmentation\n",
        "# Albumentations\n",
        "\n",
        "From:\n",
        "https://github.com/albumentations-team/albumentations"
      ],
      "metadata": {
        "id": "gbccFxmSfzea"
      }
    },
    {
      "cell_type": "markdown",
      "source": [
        "\n",
        "\n"
      ],
      "metadata": {
        "id": "KLzi1lYggkMS"
      }
    },
    {
      "cell_type": "code",
      "source": [
        "!pip install albumentations"
      ],
      "metadata": {
        "id": "-RGRtWBMgG6S",
        "colab": {
          "base_uri": "https://localhost:8080/"
        },
        "outputId": "52152c7b-58be-46d5-f22d-29f207c3c97e"
      },
      "execution_count": null,
      "outputs": [
        {
          "output_type": "stream",
          "name": "stdout",
          "text": [
            "Requirement already satisfied: albumentations in /usr/local/lib/python3.7/dist-packages (0.1.12)\n",
            "Collecting imgaug<0.2.7,>=0.2.5\n",
            "  Downloading imgaug-0.2.6.tar.gz (631 kB)\n",
            "\u001b[K     |████████████████████████████████| 631 kB 4.0 MB/s \n",
            "\u001b[?25hRequirement already satisfied: numpy>=1.11.1 in /usr/local/lib/python3.7/dist-packages (from albumentations) (1.21.6)\n",
            "Requirement already satisfied: scipy in /usr/local/lib/python3.7/dist-packages (from albumentations) (1.4.1)\n",
            "Requirement already satisfied: opencv-python in /usr/local/lib/python3.7/dist-packages (from albumentations) (4.1.2.30)\n",
            "Requirement already satisfied: scikit-image>=0.11.0 in /usr/local/lib/python3.7/dist-packages (from imgaug<0.2.7,>=0.2.5->albumentations) (0.18.3)\n",
            "Requirement already satisfied: six in /usr/local/lib/python3.7/dist-packages (from imgaug<0.2.7,>=0.2.5->albumentations) (1.15.0)\n",
            "Requirement already satisfied: pillow!=7.1.0,!=7.1.1,>=4.3.0 in /usr/local/lib/python3.7/dist-packages (from scikit-image>=0.11.0->imgaug<0.2.7,>=0.2.5->albumentations) (7.1.2)\n",
            "Requirement already satisfied: imageio>=2.3.0 in /usr/local/lib/python3.7/dist-packages (from scikit-image>=0.11.0->imgaug<0.2.7,>=0.2.5->albumentations) (2.4.1)\n",
            "Requirement already satisfied: matplotlib!=3.0.0,>=2.0.0 in /usr/local/lib/python3.7/dist-packages (from scikit-image>=0.11.0->imgaug<0.2.7,>=0.2.5->albumentations) (3.2.2)\n",
            "Requirement already satisfied: PyWavelets>=1.1.1 in /usr/local/lib/python3.7/dist-packages (from scikit-image>=0.11.0->imgaug<0.2.7,>=0.2.5->albumentations) (1.3.0)\n",
            "Requirement already satisfied: tifffile>=2019.7.26 in /usr/local/lib/python3.7/dist-packages (from scikit-image>=0.11.0->imgaug<0.2.7,>=0.2.5->albumentations) (2021.11.2)\n",
            "Requirement already satisfied: networkx>=2.0 in /usr/local/lib/python3.7/dist-packages (from scikit-image>=0.11.0->imgaug<0.2.7,>=0.2.5->albumentations) (2.6.3)\n",
            "Requirement already satisfied: pyparsing!=2.0.4,!=2.1.2,!=2.1.6,>=2.0.1 in /usr/local/lib/python3.7/dist-packages (from matplotlib!=3.0.0,>=2.0.0->scikit-image>=0.11.0->imgaug<0.2.7,>=0.2.5->albumentations) (3.0.8)\n",
            "Requirement already satisfied: cycler>=0.10 in /usr/local/lib/python3.7/dist-packages (from matplotlib!=3.0.0,>=2.0.0->scikit-image>=0.11.0->imgaug<0.2.7,>=0.2.5->albumentations) (0.11.0)\n",
            "Requirement already satisfied: kiwisolver>=1.0.1 in /usr/local/lib/python3.7/dist-packages (from matplotlib!=3.0.0,>=2.0.0->scikit-image>=0.11.0->imgaug<0.2.7,>=0.2.5->albumentations) (1.4.2)\n",
            "Requirement already satisfied: python-dateutil>=2.1 in /usr/local/lib/python3.7/dist-packages (from matplotlib!=3.0.0,>=2.0.0->scikit-image>=0.11.0->imgaug<0.2.7,>=0.2.5->albumentations) (2.8.2)\n",
            "Requirement already satisfied: typing-extensions in /usr/local/lib/python3.7/dist-packages (from kiwisolver>=1.0.1->matplotlib!=3.0.0,>=2.0.0->scikit-image>=0.11.0->imgaug<0.2.7,>=0.2.5->albumentations) (4.1.1)\n",
            "Building wheels for collected packages: imgaug\n",
            "  Building wheel for imgaug (setup.py) ... \u001b[?25l\u001b[?25hdone\n",
            "  Created wheel for imgaug: filename=imgaug-0.2.6-py3-none-any.whl size=654017 sha256=108da99e230e8f0d30197902b402ad0858a5ea6fcb7e71719209c94abceb6da6\n",
            "  Stored in directory: /root/.cache/pip/wheels/89/72/98/3ebfdba1069a9a8eaaa7ae7265cfd67d63ef0197aaee2e5f9c\n",
            "Successfully built imgaug\n",
            "Installing collected packages: imgaug\n",
            "  Attempting uninstall: imgaug\n",
            "    Found existing installation: imgaug 0.2.9\n",
            "    Uninstalling imgaug-0.2.9:\n",
            "      Successfully uninstalled imgaug-0.2.9\n",
            "Successfully installed imgaug-0.2.6\n"
          ]
        }
      ]
    },
    {
      "cell_type": "code",
      "source": [
        "import os\n",
        "import math\n",
        "import random\n",
        "\n",
        "import cv2\n",
        "import numpy as np\n",
        "import pandas as pd\n",
        "import matplotlib.pyplot as plt\n",
        "import tensorflow as tf\n",
        "import numpy as np\n",
        "import pandas as pd\n",
        "\n",
        "from tensorflow import keras\n",
        "from tensorflow.keras import layers\n",
        "from tensorflow.keras import activations\n",
        "\n",
        "os.environ['CUDA_VISIBLE_DEVICES'] = '1'"
      ],
      "metadata": {
        "id": "FOoE6RLugJZx"
      },
      "execution_count": null,
      "outputs": []
    },
    {
      "cell_type": "code",
      "source": [
        "import albumentations as A\n",
        "import cv2\n",
        "\n",
        "class Augmentation:\n",
        "    def __init__(self, size, mode='train'):\n",
        "        if mode == 'train':\n",
        "            # Declare an augmentation pipeline\n",
        "            self.transform = A.Compose([\n",
        "                A.HorizontalFlip(p=0.5),\n",
        "                A.ShiftScaleRotate(\n",
        "                    p=0.5,\n",
        "                    shift_limit=0.05,\n",
        "                    scale_limit=0.05,\n",
        "                    rotate_limit=15,\n",
        "                ),\n",
        "                A.CoarseDropout(\n",
        "                    p=0.5,\n",
        "                    max_holes=8,\n",
        "                    max_height=int(0.1 * size),\n",
        "                    max_width=int(0.1 * size)\n",
        "                ),\n",
        "                A.RandomBrightnessContrast(p=0.2),\n",
        "            ])\n",
        "    def __call__(self, **kwargs):\n",
        "        if self.transform:\n",
        "            augmented = self.transform(**kwargs)\n",
        "            img = augmented['image']\n",
        "            return img"
      ],
      "metadata": {
        "id": "KRnicFfngMbq"
      },
      "execution_count": null,
      "outputs": []
    },
    {
      "cell_type": "code",
      "source": [
        "class DataGenerator(keras.utils.Sequence):\n",
        "    def __init__(self, batch_size, csv_path, image_size,\n",
        "                 fold, mode='train', shuffle=True):\n",
        "        self.fold = fold\n",
        "        self.shuffle = shuffle\n",
        "        self.mode = mode\n",
        "        self.batch_size = batch_size\n",
        "        self.image_size = image_size\n",
        "        \n",
        "        self.df = pd.read_csv(csv_path)\n",
        "        if self.mode == 'train':    \n",
        "            self.df = self.df[self.df['fold'] != self.fold]\n",
        "        elif self.mode == 'val':\n",
        "            self.df = self.df[self.df['fold'] == self.fold]\n",
        "        \n",
        "        #### Remove invalid files\n",
        "        #### https://github.com/tensorflow/models/issues/3134\n",
        "        invalid_filenames = [\n",
        "            'Egyptian_Mau_14',\n",
        "            'Egyptian_Mau_139',\n",
        "            'Egyptian_Mau_145',\n",
        "            'Egyptian_Mau_156',\n",
        "            'Egyptian_Mau_167',\n",
        "            'Egyptian_Mau_177',\n",
        "            'Egyptian_Mau_186',\n",
        "            'Egyptian_Mau_191',\n",
        "            'Abyssinian_5',\n",
        "            'Abyssinian_34',\n",
        "            'chihuahua_121',\n",
        "            'beagle_116'\n",
        "        ]\n",
        "        self.df = self.df[~self.df['file_name'].isin(invalid_filenames)]\n",
        "        self.transform = Augmentation(image_size, mode)\n",
        "        \n",
        "        self.on_epoch_end()\n",
        "            \n",
        "    def __len__(self):\n",
        "        return math.ceil(len(self.df) / self.batch_size)\n",
        "    \n",
        "    def __getitem__(self, idx):\n",
        "        strt = idx * self.batch_size\n",
        "        fin = (idx + 1) * self.batch_size\n",
        "        data = self.df.iloc[strt:fin]\n",
        "        \n",
        "        batch_x, batch_y = self.get_data(data)\n",
        "\n",
        "        return np.array(batch_x), np.array(batch_y)\n",
        "        \n",
        "    def get_data(self, data):\n",
        "        batch_x = []\n",
        "        batch_y = []\n",
        "    \n",
        "        for _, r in data.iterrows():\n",
        "            file_name = r['file_name']\n",
        "\n",
        "            image = cv2.imread(f'data/images/{file_name}.jpg')\n",
        "            image = cv2.cvtColor(image, cv2.COLOR_BGR2RGB)\n",
        "            image = cv2.resize(image, (self.image_size, self.image_size))\n",
        "            \n",
        "            if self.mode == 'train':\n",
        "                image = image.astype('uint8')\n",
        "                image = self.transform(image=image)\n",
        "                \n",
        "            image = image.astype('float32')\n",
        "            image = image / 255.\n",
        "\n",
        "            label = int(r['species']) - 1\n",
        "\n",
        "            batch_x.append(image)\n",
        "            batch_y.append(label)\n",
        "        \n",
        "        return batch_x, batch_y\n",
        "        \n",
        "    def on_epoch_end(self):\n",
        "        if self.shuffle:\n",
        "            self.df = self.df.sample(frac=1).reset_index(drop=True)\n",
        "\n",
        "csv_path = '/content/drive/MyDrive/data/kfolds.csv'\n",
        "train_generator = DataGenerator(\n",
        "    fold=1,\n",
        "    mode='train',\n",
        "    csv_path=csv_path,\n",
        "    batch_size=128,\n",
        "    image_size=256,\n",
        "    shuffle=True)\n",
        "\n",
        "valid_generator = DataGenerator(\n",
        "    fold=1,\n",
        "    mode='val',\n",
        "    csv_path=csv_path,\n",
        "    batch_size=128,\n",
        "    image_size=256,\n",
        "    shuffle=True)"
      ],
      "metadata": {
        "id": "N8xaumOCgOh6",
        "colab": {
          "base_uri": "https://localhost:8080/",
          "height": 380
        },
        "outputId": "8964ca48-8cdc-4452-9b96-9e9564530e7e"
      },
      "execution_count": null,
      "outputs": [
        {
          "output_type": "error",
          "ename": "AttributeError",
          "evalue": "ignored",
          "traceback": [
            "\u001b[0;31m---------------------------------------------------------------------------\u001b[0m",
            "\u001b[0;31mAttributeError\u001b[0m                            Traceback (most recent call last)",
            "\u001b[0;32m<ipython-input-117-fcd10aad8022>\u001b[0m in \u001b[0;36m<module>\u001b[0;34m()\u001b[0m\n\u001b[1;32m     83\u001b[0m     \u001b[0mbatch_size\u001b[0m\u001b[0;34m=\u001b[0m\u001b[0;36m128\u001b[0m\u001b[0;34m,\u001b[0m\u001b[0;34m\u001b[0m\u001b[0;34m\u001b[0m\u001b[0m\n\u001b[1;32m     84\u001b[0m     \u001b[0mimage_size\u001b[0m\u001b[0;34m=\u001b[0m\u001b[0;36m256\u001b[0m\u001b[0;34m,\u001b[0m\u001b[0;34m\u001b[0m\u001b[0;34m\u001b[0m\u001b[0m\n\u001b[0;32m---> 85\u001b[0;31m     shuffle=True)\n\u001b[0m\u001b[1;32m     86\u001b[0m \u001b[0;34m\u001b[0m\u001b[0m\n\u001b[1;32m     87\u001b[0m valid_generator = DataGenerator(\n",
            "\u001b[0;32m<ipython-input-117-fcd10aad8022>\u001b[0m in \u001b[0;36m__init__\u001b[0;34m(self, batch_size, csv_path, image_size, fold, mode, shuffle)\u001b[0m\n\u001b[1;32m     31\u001b[0m         ]\n\u001b[1;32m     32\u001b[0m         \u001b[0mself\u001b[0m\u001b[0;34m.\u001b[0m\u001b[0mdf\u001b[0m \u001b[0;34m=\u001b[0m \u001b[0mself\u001b[0m\u001b[0;34m.\u001b[0m\u001b[0mdf\u001b[0m\u001b[0;34m[\u001b[0m\u001b[0;34m~\u001b[0m\u001b[0mself\u001b[0m\u001b[0;34m.\u001b[0m\u001b[0mdf\u001b[0m\u001b[0;34m[\u001b[0m\u001b[0;34m'file_name'\u001b[0m\u001b[0;34m]\u001b[0m\u001b[0;34m.\u001b[0m\u001b[0misin\u001b[0m\u001b[0;34m(\u001b[0m\u001b[0minvalid_filenames\u001b[0m\u001b[0;34m)\u001b[0m\u001b[0;34m]\u001b[0m\u001b[0;34m\u001b[0m\u001b[0;34m\u001b[0m\u001b[0m\n\u001b[0;32m---> 33\u001b[0;31m         \u001b[0mself\u001b[0m\u001b[0;34m.\u001b[0m\u001b[0mtransform\u001b[0m \u001b[0;34m=\u001b[0m \u001b[0mAugmentation\u001b[0m\u001b[0;34m(\u001b[0m\u001b[0mimage_size\u001b[0m\u001b[0;34m,\u001b[0m \u001b[0mmode\u001b[0m\u001b[0;34m)\u001b[0m\u001b[0;34m\u001b[0m\u001b[0;34m\u001b[0m\u001b[0m\n\u001b[0m\u001b[1;32m     34\u001b[0m \u001b[0;34m\u001b[0m\u001b[0m\n\u001b[1;32m     35\u001b[0m         \u001b[0mself\u001b[0m\u001b[0;34m.\u001b[0m\u001b[0mon_epoch_end\u001b[0m\u001b[0;34m(\u001b[0m\u001b[0;34m)\u001b[0m\u001b[0;34m\u001b[0m\u001b[0;34m\u001b[0m\u001b[0m\n",
            "\u001b[0;32m<ipython-input-111-febfdbd2fd5e>\u001b[0m in \u001b[0;36m__init__\u001b[0;34m(self, size, mode)\u001b[0m\n\u001b[1;32m     14\u001b[0m                     \u001b[0mrotate_limit\u001b[0m\u001b[0;34m=\u001b[0m\u001b[0;36m15\u001b[0m\u001b[0;34m,\u001b[0m\u001b[0;34m\u001b[0m\u001b[0;34m\u001b[0m\u001b[0m\n\u001b[1;32m     15\u001b[0m                 ),\n\u001b[0;32m---> 16\u001b[0;31m                 A.CoarseDropout(\n\u001b[0m\u001b[1;32m     17\u001b[0m                     \u001b[0mp\u001b[0m\u001b[0;34m=\u001b[0m\u001b[0;36m0.5\u001b[0m\u001b[0;34m,\u001b[0m\u001b[0;34m\u001b[0m\u001b[0;34m\u001b[0m\u001b[0m\n\u001b[1;32m     18\u001b[0m                     \u001b[0mmax_holes\u001b[0m\u001b[0;34m=\u001b[0m\u001b[0;36m8\u001b[0m\u001b[0;34m,\u001b[0m\u001b[0;34m\u001b[0m\u001b[0;34m\u001b[0m\u001b[0m\n",
            "\u001b[0;31mAttributeError\u001b[0m: module 'albumentations' has no attribute 'CoarseDropout'"
          ]
        }
      ]
    },
    {
      "cell_type": "code",
      "source": [
        "class_names = ['Cat', 'Dog']\n",
        "\n",
        "for batch in train_generator:\n",
        "    X, y = batch\n",
        "    plt.figure(figsize=(15, 15))\n",
        "\n",
        "    for i in range(9):\n",
        "        ax = plt.subplot(3, 3, i + 1)\n",
        "        plt.imshow(X[i])\n",
        "        plt.title(class_names[y[i]])\n",
        "        plt.axis('off')\n",
        "    break"
      ],
      "metadata": {
        "id": "YkurKeTcgPiM",
        "colab": {
          "base_uri": "https://localhost:8080/",
          "height": 397
        },
        "outputId": "74420a65-eeaa-40cc-a2ba-00caa3fa334a"
      },
      "execution_count": null,
      "outputs": [
        {
          "output_type": "error",
          "ename": "error",
          "evalue": "ignored",
          "traceback": [
            "\u001b[0;31m---------------------------------------------------------------------------\u001b[0m",
            "\u001b[0;31merror\u001b[0m                                     Traceback (most recent call last)",
            "\u001b[0;32m<ipython-input-118-5faa866529da>\u001b[0m in \u001b[0;36m<module>\u001b[0;34m()\u001b[0m\n\u001b[1;32m      1\u001b[0m \u001b[0mclass_names\u001b[0m \u001b[0;34m=\u001b[0m \u001b[0;34m[\u001b[0m\u001b[0;34m'Cat'\u001b[0m\u001b[0;34m,\u001b[0m \u001b[0;34m'Dog'\u001b[0m\u001b[0;34m]\u001b[0m\u001b[0;34m\u001b[0m\u001b[0;34m\u001b[0m\u001b[0m\n\u001b[1;32m      2\u001b[0m \u001b[0;34m\u001b[0m\u001b[0m\n\u001b[0;32m----> 3\u001b[0;31m \u001b[0;32mfor\u001b[0m \u001b[0mbatch\u001b[0m \u001b[0;32min\u001b[0m \u001b[0mtrain_generator\u001b[0m\u001b[0;34m:\u001b[0m\u001b[0;34m\u001b[0m\u001b[0;34m\u001b[0m\u001b[0m\n\u001b[0m\u001b[1;32m      4\u001b[0m     \u001b[0mX\u001b[0m\u001b[0;34m,\u001b[0m \u001b[0my\u001b[0m \u001b[0;34m=\u001b[0m \u001b[0mbatch\u001b[0m\u001b[0;34m\u001b[0m\u001b[0;34m\u001b[0m\u001b[0m\n\u001b[1;32m      5\u001b[0m     \u001b[0mplt\u001b[0m\u001b[0;34m.\u001b[0m\u001b[0mfigure\u001b[0m\u001b[0;34m(\u001b[0m\u001b[0mfigsize\u001b[0m\u001b[0;34m=\u001b[0m\u001b[0;34m(\u001b[0m\u001b[0;36m15\u001b[0m\u001b[0;34m,\u001b[0m \u001b[0;36m15\u001b[0m\u001b[0;34m)\u001b[0m\u001b[0;34m)\u001b[0m\u001b[0;34m\u001b[0m\u001b[0;34m\u001b[0m\u001b[0m\n",
            "\u001b[0;32m/usr/local/lib/python3.7/dist-packages/keras/utils/data_utils.py\u001b[0m in \u001b[0;36m__iter__\u001b[0;34m(self)\u001b[0m\n\u001b[1;32m    484\u001b[0m   \u001b[0;32mdef\u001b[0m \u001b[0m__iter__\u001b[0m\u001b[0;34m(\u001b[0m\u001b[0mself\u001b[0m\u001b[0;34m)\u001b[0m\u001b[0;34m:\u001b[0m\u001b[0;34m\u001b[0m\u001b[0;34m\u001b[0m\u001b[0m\n\u001b[1;32m    485\u001b[0m     \u001b[0;34m\"\"\"Create a generator that iterate over the Sequence.\"\"\"\u001b[0m\u001b[0;34m\u001b[0m\u001b[0;34m\u001b[0m\u001b[0m\n\u001b[0;32m--> 486\u001b[0;31m     \u001b[0;32mfor\u001b[0m \u001b[0mitem\u001b[0m \u001b[0;32min\u001b[0m \u001b[0;34m(\u001b[0m\u001b[0mself\u001b[0m\u001b[0;34m[\u001b[0m\u001b[0mi\u001b[0m\u001b[0;34m]\u001b[0m \u001b[0;32mfor\u001b[0m \u001b[0mi\u001b[0m \u001b[0;32min\u001b[0m \u001b[0mrange\u001b[0m\u001b[0;34m(\u001b[0m\u001b[0mlen\u001b[0m\u001b[0;34m(\u001b[0m\u001b[0mself\u001b[0m\u001b[0;34m)\u001b[0m\u001b[0;34m)\u001b[0m\u001b[0;34m)\u001b[0m\u001b[0;34m:\u001b[0m\u001b[0;34m\u001b[0m\u001b[0;34m\u001b[0m\u001b[0m\n\u001b[0m\u001b[1;32m    487\u001b[0m       \u001b[0;32myield\u001b[0m \u001b[0mitem\u001b[0m\u001b[0;34m\u001b[0m\u001b[0;34m\u001b[0m\u001b[0m\n\u001b[1;32m    488\u001b[0m \u001b[0;34m\u001b[0m\u001b[0m\n",
            "\u001b[0;32m/usr/local/lib/python3.7/dist-packages/keras/utils/data_utils.py\u001b[0m in \u001b[0;36m<genexpr>\u001b[0;34m(.0)\u001b[0m\n\u001b[1;32m    484\u001b[0m   \u001b[0;32mdef\u001b[0m \u001b[0m__iter__\u001b[0m\u001b[0;34m(\u001b[0m\u001b[0mself\u001b[0m\u001b[0;34m)\u001b[0m\u001b[0;34m:\u001b[0m\u001b[0;34m\u001b[0m\u001b[0;34m\u001b[0m\u001b[0m\n\u001b[1;32m    485\u001b[0m     \u001b[0;34m\"\"\"Create a generator that iterate over the Sequence.\"\"\"\u001b[0m\u001b[0;34m\u001b[0m\u001b[0;34m\u001b[0m\u001b[0m\n\u001b[0;32m--> 486\u001b[0;31m     \u001b[0;32mfor\u001b[0m \u001b[0mitem\u001b[0m \u001b[0;32min\u001b[0m \u001b[0;34m(\u001b[0m\u001b[0mself\u001b[0m\u001b[0;34m[\u001b[0m\u001b[0mi\u001b[0m\u001b[0;34m]\u001b[0m \u001b[0;32mfor\u001b[0m \u001b[0mi\u001b[0m \u001b[0;32min\u001b[0m \u001b[0mrange\u001b[0m\u001b[0;34m(\u001b[0m\u001b[0mlen\u001b[0m\u001b[0;34m(\u001b[0m\u001b[0mself\u001b[0m\u001b[0;34m)\u001b[0m\u001b[0;34m)\u001b[0m\u001b[0;34m)\u001b[0m\u001b[0;34m:\u001b[0m\u001b[0;34m\u001b[0m\u001b[0;34m\u001b[0m\u001b[0m\n\u001b[0m\u001b[1;32m    487\u001b[0m       \u001b[0;32myield\u001b[0m \u001b[0mitem\u001b[0m\u001b[0;34m\u001b[0m\u001b[0;34m\u001b[0m\u001b[0m\n\u001b[1;32m    488\u001b[0m \u001b[0;34m\u001b[0m\u001b[0m\n",
            "\u001b[0;32m<ipython-input-83-2962ac76d1e4>\u001b[0m in \u001b[0;36m__getitem__\u001b[0;34m(self, idx)\u001b[0m\n\u001b[1;32m     41\u001b[0m         \u001b[0mdata\u001b[0m \u001b[0;34m=\u001b[0m \u001b[0mself\u001b[0m\u001b[0;34m.\u001b[0m\u001b[0mdf\u001b[0m\u001b[0;34m.\u001b[0m\u001b[0miloc\u001b[0m\u001b[0;34m[\u001b[0m\u001b[0mstrt\u001b[0m\u001b[0;34m:\u001b[0m\u001b[0mfin\u001b[0m\u001b[0;34m]\u001b[0m\u001b[0;34m\u001b[0m\u001b[0;34m\u001b[0m\u001b[0m\n\u001b[1;32m     42\u001b[0m \u001b[0;34m\u001b[0m\u001b[0m\n\u001b[0;32m---> 43\u001b[0;31m         \u001b[0mbatch_x\u001b[0m\u001b[0;34m,\u001b[0m \u001b[0mbatch_y\u001b[0m \u001b[0;34m=\u001b[0m \u001b[0mself\u001b[0m\u001b[0;34m.\u001b[0m\u001b[0mget_data\u001b[0m\u001b[0;34m(\u001b[0m\u001b[0mdata\u001b[0m\u001b[0;34m)\u001b[0m\u001b[0;34m\u001b[0m\u001b[0;34m\u001b[0m\u001b[0m\n\u001b[0m\u001b[1;32m     44\u001b[0m \u001b[0;34m\u001b[0m\u001b[0m\n\u001b[1;32m     45\u001b[0m         \u001b[0;32mreturn\u001b[0m \u001b[0mnp\u001b[0m\u001b[0;34m.\u001b[0m\u001b[0marray\u001b[0m\u001b[0;34m(\u001b[0m\u001b[0mbatch_x\u001b[0m\u001b[0;34m)\u001b[0m\u001b[0;34m,\u001b[0m \u001b[0mnp\u001b[0m\u001b[0;34m.\u001b[0m\u001b[0marray\u001b[0m\u001b[0;34m(\u001b[0m\u001b[0mbatch_y\u001b[0m\u001b[0;34m)\u001b[0m\u001b[0;34m\u001b[0m\u001b[0;34m\u001b[0m\u001b[0m\n",
            "\u001b[0;32m<ipython-input-83-2962ac76d1e4>\u001b[0m in \u001b[0;36mget_data\u001b[0;34m(self, data)\u001b[0m\n\u001b[1;32m     53\u001b[0m \u001b[0;34m\u001b[0m\u001b[0m\n\u001b[1;32m     54\u001b[0m             \u001b[0mimage\u001b[0m \u001b[0;34m=\u001b[0m \u001b[0mcv2\u001b[0m\u001b[0;34m.\u001b[0m\u001b[0mimread\u001b[0m\u001b[0;34m(\u001b[0m\u001b[0;34mf'data/images/{file_name}.jpg'\u001b[0m\u001b[0;34m)\u001b[0m\u001b[0;34m\u001b[0m\u001b[0;34m\u001b[0m\u001b[0m\n\u001b[0;32m---> 55\u001b[0;31m             \u001b[0mimage\u001b[0m \u001b[0;34m=\u001b[0m \u001b[0mcv2\u001b[0m\u001b[0;34m.\u001b[0m\u001b[0mcvtColor\u001b[0m\u001b[0;34m(\u001b[0m\u001b[0mimage\u001b[0m\u001b[0;34m,\u001b[0m \u001b[0mcv2\u001b[0m\u001b[0;34m.\u001b[0m\u001b[0mCOLOR_BGR2RGB\u001b[0m\u001b[0;34m)\u001b[0m\u001b[0;34m\u001b[0m\u001b[0;34m\u001b[0m\u001b[0m\n\u001b[0m\u001b[1;32m     56\u001b[0m \u001b[0;34m\u001b[0m\u001b[0m\n\u001b[1;32m     57\u001b[0m             \u001b[0mimage\u001b[0m \u001b[0;34m=\u001b[0m \u001b[0mcv2\u001b[0m\u001b[0;34m.\u001b[0m\u001b[0mresize\u001b[0m\u001b[0;34m(\u001b[0m\u001b[0mimage\u001b[0m\u001b[0;34m,\u001b[0m \u001b[0;34m(\u001b[0m\u001b[0mself\u001b[0m\u001b[0;34m.\u001b[0m\u001b[0mimage_size\u001b[0m\u001b[0;34m,\u001b[0m \u001b[0mself\u001b[0m\u001b[0;34m.\u001b[0m\u001b[0mimage_size\u001b[0m\u001b[0;34m)\u001b[0m\u001b[0;34m)\u001b[0m\u001b[0;34m\u001b[0m\u001b[0;34m\u001b[0m\u001b[0m\n",
            "\u001b[0;31merror\u001b[0m: OpenCV(4.1.2) /io/opencv/modules/imgproc/src/color.cpp:182: error: (-215:Assertion failed) !_src.empty() in function 'cvtColor'\n"
          ]
        }
      ]
    },
    {
      "cell_type": "code",
      "source": [
        "def get_sequential_model(input_shape):\n",
        "    model = keras.Sequential(\n",
        "        [\n",
        "            # Input\n",
        "            layers.Input(input_shape),\n",
        "\n",
        "            # 1st Conv block\n",
        "            layers.Conv2D(64, 3, strides=1, activation='relu', padding='same'),\n",
        "            layers.Conv2D(64, 3, strides=1, activation='relu', padding='same'),\n",
        "            layers.MaxPool2D(),\n",
        "            layers.BatchNormalization(),\n",
        "            layers.Dropout(0.5),\n",
        "\n",
        "            # 2nd Conv block\n",
        "            layers.Conv2D(128, 3, strides=1, activation='relu', padding='same'),\n",
        "            layers.Conv2D(128, 3, strides=1, activation='relu', padding='same'),\n",
        "            layers.MaxPool2D(),\n",
        "            layers.BatchNormalization(),\n",
        "            layers.Dropout(0.3),\n",
        "        \n",
        "            # Classfier\n",
        "            layers.GlobalMaxPool2D(),\n",
        "            layers.Dense(128, activation='relu'),\n",
        "            layers.Dense(1, activation='sigmoid')\n",
        "        ]\n",
        "    )\n",
        "\n",
        "    return model\n",
        "\n",
        "input_shape = (256, 256, 3)\n",
        "model = get_sequential_model(input_shape)\n",
        "\n",
        "model.compile(\n",
        "    optimizer='adam',\n",
        "    loss='binary_crossentropy',\n",
        "    metrics='accuracy'\n",
        ")\n",
        "\n",
        "model.summary()"
      ],
      "metadata": {
        "id": "qlPSVcubgRDC",
        "colab": {
          "base_uri": "https://localhost:8080/"
        },
        "outputId": "2736fa66-5c0d-4847-ef69-54b519a1bcac"
      },
      "execution_count": null,
      "outputs": [
        {
          "output_type": "stream",
          "name": "stdout",
          "text": [
            "Model: \"sequential_2\"\n",
            "_________________________________________________________________\n",
            " Layer (type)                Output Shape              Param #   \n",
            "=================================================================\n",
            " conv2d_16 (Conv2D)          (None, 256, 256, 64)      1792      \n",
            "                                                                 \n",
            " conv2d_17 (Conv2D)          (None, 256, 256, 64)      36928     \n",
            "                                                                 \n",
            " max_pooling2d_8 (MaxPooling  (None, 128, 128, 64)     0         \n",
            " 2D)                                                             \n",
            "                                                                 \n",
            " batch_normalization_8 (Batc  (None, 128, 128, 64)     256       \n",
            " hNormalization)                                                 \n",
            "                                                                 \n",
            " dropout_8 (Dropout)         (None, 128, 128, 64)      0         \n",
            "                                                                 \n",
            " conv2d_18 (Conv2D)          (None, 128, 128, 128)     73856     \n",
            "                                                                 \n",
            " conv2d_19 (Conv2D)          (None, 128, 128, 128)     147584    \n",
            "                                                                 \n",
            " max_pooling2d_9 (MaxPooling  (None, 64, 64, 128)      0         \n",
            " 2D)                                                             \n",
            "                                                                 \n",
            " batch_normalization_9 (Batc  (None, 64, 64, 128)      512       \n",
            " hNormalization)                                                 \n",
            "                                                                 \n",
            " dropout_9 (Dropout)         (None, 64, 64, 128)       0         \n",
            "                                                                 \n",
            " global_max_pooling2d_4 (Glo  (None, 128)              0         \n",
            " balMaxPooling2D)                                                \n",
            "                                                                 \n",
            " dense_8 (Dense)             (None, 128)               16512     \n",
            "                                                                 \n",
            " dense_9 (Dense)             (None, 1)                 129       \n",
            "                                                                 \n",
            "=================================================================\n",
            "Total params: 277,569\n",
            "Trainable params: 277,185\n",
            "Non-trainable params: 384\n",
            "_________________________________________________________________\n"
          ]
        }
      ]
    },
    {
      "cell_type": "code",
      "source": [
        "history = model.fit(\n",
        "    train_generator,\n",
        "    validation_data=valid_generator,\n",
        "    epochs=10,\n",
        "    verbose=1\n",
        ")"
      ],
      "metadata": {
        "id": "Dr0IxFpzgSLS",
        "colab": {
          "base_uri": "https://localhost:8080/",
          "height": 380
        },
        "outputId": "5cddaf7c-c25f-4aba-f4fc-f05d86a6e1e2"
      },
      "execution_count": null,
      "outputs": [
        {
          "output_type": "error",
          "ename": "error",
          "evalue": "ignored",
          "traceback": [
            "\u001b[0;31m---------------------------------------------------------------------------\u001b[0m",
            "\u001b[0;31merror\u001b[0m                                     Traceback (most recent call last)",
            "\u001b[0;32m<ipython-input-120-9a109b059bfe>\u001b[0m in \u001b[0;36m<module>\u001b[0;34m()\u001b[0m\n\u001b[1;32m      3\u001b[0m     \u001b[0mvalidation_data\u001b[0m\u001b[0;34m=\u001b[0m\u001b[0mvalid_generator\u001b[0m\u001b[0;34m,\u001b[0m\u001b[0;34m\u001b[0m\u001b[0;34m\u001b[0m\u001b[0m\n\u001b[1;32m      4\u001b[0m     \u001b[0mepochs\u001b[0m\u001b[0;34m=\u001b[0m\u001b[0;36m10\u001b[0m\u001b[0;34m,\u001b[0m\u001b[0;34m\u001b[0m\u001b[0;34m\u001b[0m\u001b[0m\n\u001b[0;32m----> 5\u001b[0;31m     \u001b[0mverbose\u001b[0m\u001b[0;34m=\u001b[0m\u001b[0;36m1\u001b[0m\u001b[0;34m\u001b[0m\u001b[0;34m\u001b[0m\u001b[0m\n\u001b[0m\u001b[1;32m      6\u001b[0m )\n",
            "\u001b[0;32m/usr/local/lib/python3.7/dist-packages/keras/utils/traceback_utils.py\u001b[0m in \u001b[0;36merror_handler\u001b[0;34m(*args, **kwargs)\u001b[0m\n\u001b[1;32m     65\u001b[0m     \u001b[0;32mexcept\u001b[0m \u001b[0mException\u001b[0m \u001b[0;32mas\u001b[0m \u001b[0me\u001b[0m\u001b[0;34m:\u001b[0m  \u001b[0;31m# pylint: disable=broad-except\u001b[0m\u001b[0;34m\u001b[0m\u001b[0;34m\u001b[0m\u001b[0m\n\u001b[1;32m     66\u001b[0m       \u001b[0mfiltered_tb\u001b[0m \u001b[0;34m=\u001b[0m \u001b[0m_process_traceback_frames\u001b[0m\u001b[0;34m(\u001b[0m\u001b[0me\u001b[0m\u001b[0;34m.\u001b[0m\u001b[0m__traceback__\u001b[0m\u001b[0;34m)\u001b[0m\u001b[0;34m\u001b[0m\u001b[0;34m\u001b[0m\u001b[0m\n\u001b[0;32m---> 67\u001b[0;31m       \u001b[0;32mraise\u001b[0m \u001b[0me\u001b[0m\u001b[0;34m.\u001b[0m\u001b[0mwith_traceback\u001b[0m\u001b[0;34m(\u001b[0m\u001b[0mfiltered_tb\u001b[0m\u001b[0;34m)\u001b[0m \u001b[0;32mfrom\u001b[0m \u001b[0;32mNone\u001b[0m\u001b[0;34m\u001b[0m\u001b[0;34m\u001b[0m\u001b[0m\n\u001b[0m\u001b[1;32m     68\u001b[0m     \u001b[0;32mfinally\u001b[0m\u001b[0;34m:\u001b[0m\u001b[0;34m\u001b[0m\u001b[0;34m\u001b[0m\u001b[0m\n\u001b[1;32m     69\u001b[0m       \u001b[0;32mdel\u001b[0m \u001b[0mfiltered_tb\u001b[0m\u001b[0;34m\u001b[0m\u001b[0;34m\u001b[0m\u001b[0m\n",
            "\u001b[0;32m<ipython-input-83-2962ac76d1e4>\u001b[0m in \u001b[0;36m__getitem__\u001b[0;34m(self, idx)\u001b[0m\n\u001b[1;32m     41\u001b[0m         \u001b[0mdata\u001b[0m \u001b[0;34m=\u001b[0m \u001b[0mself\u001b[0m\u001b[0;34m.\u001b[0m\u001b[0mdf\u001b[0m\u001b[0;34m.\u001b[0m\u001b[0miloc\u001b[0m\u001b[0;34m[\u001b[0m\u001b[0mstrt\u001b[0m\u001b[0;34m:\u001b[0m\u001b[0mfin\u001b[0m\u001b[0;34m]\u001b[0m\u001b[0;34m\u001b[0m\u001b[0;34m\u001b[0m\u001b[0m\n\u001b[1;32m     42\u001b[0m \u001b[0;34m\u001b[0m\u001b[0m\n\u001b[0;32m---> 43\u001b[0;31m         \u001b[0mbatch_x\u001b[0m\u001b[0;34m,\u001b[0m \u001b[0mbatch_y\u001b[0m \u001b[0;34m=\u001b[0m \u001b[0mself\u001b[0m\u001b[0;34m.\u001b[0m\u001b[0mget_data\u001b[0m\u001b[0;34m(\u001b[0m\u001b[0mdata\u001b[0m\u001b[0;34m)\u001b[0m\u001b[0;34m\u001b[0m\u001b[0;34m\u001b[0m\u001b[0m\n\u001b[0m\u001b[1;32m     44\u001b[0m \u001b[0;34m\u001b[0m\u001b[0m\n\u001b[1;32m     45\u001b[0m         \u001b[0;32mreturn\u001b[0m \u001b[0mnp\u001b[0m\u001b[0;34m.\u001b[0m\u001b[0marray\u001b[0m\u001b[0;34m(\u001b[0m\u001b[0mbatch_x\u001b[0m\u001b[0;34m)\u001b[0m\u001b[0;34m,\u001b[0m \u001b[0mnp\u001b[0m\u001b[0;34m.\u001b[0m\u001b[0marray\u001b[0m\u001b[0;34m(\u001b[0m\u001b[0mbatch_y\u001b[0m\u001b[0;34m)\u001b[0m\u001b[0;34m\u001b[0m\u001b[0;34m\u001b[0m\u001b[0m\n",
            "\u001b[0;32m<ipython-input-83-2962ac76d1e4>\u001b[0m in \u001b[0;36mget_data\u001b[0;34m(self, data)\u001b[0m\n\u001b[1;32m     53\u001b[0m \u001b[0;34m\u001b[0m\u001b[0m\n\u001b[1;32m     54\u001b[0m             \u001b[0mimage\u001b[0m \u001b[0;34m=\u001b[0m \u001b[0mcv2\u001b[0m\u001b[0;34m.\u001b[0m\u001b[0mimread\u001b[0m\u001b[0;34m(\u001b[0m\u001b[0;34mf'data/images/{file_name}.jpg'\u001b[0m\u001b[0;34m)\u001b[0m\u001b[0;34m\u001b[0m\u001b[0;34m\u001b[0m\u001b[0m\n\u001b[0;32m---> 55\u001b[0;31m             \u001b[0mimage\u001b[0m \u001b[0;34m=\u001b[0m \u001b[0mcv2\u001b[0m\u001b[0;34m.\u001b[0m\u001b[0mcvtColor\u001b[0m\u001b[0;34m(\u001b[0m\u001b[0mimage\u001b[0m\u001b[0;34m,\u001b[0m \u001b[0mcv2\u001b[0m\u001b[0;34m.\u001b[0m\u001b[0mCOLOR_BGR2RGB\u001b[0m\u001b[0;34m)\u001b[0m\u001b[0;34m\u001b[0m\u001b[0;34m\u001b[0m\u001b[0m\n\u001b[0m\u001b[1;32m     56\u001b[0m \u001b[0;34m\u001b[0m\u001b[0m\n\u001b[1;32m     57\u001b[0m             \u001b[0mimage\u001b[0m \u001b[0;34m=\u001b[0m \u001b[0mcv2\u001b[0m\u001b[0;34m.\u001b[0m\u001b[0mresize\u001b[0m\u001b[0;34m(\u001b[0m\u001b[0mimage\u001b[0m\u001b[0;34m,\u001b[0m \u001b[0;34m(\u001b[0m\u001b[0mself\u001b[0m\u001b[0;34m.\u001b[0m\u001b[0mimage_size\u001b[0m\u001b[0;34m,\u001b[0m \u001b[0mself\u001b[0m\u001b[0;34m.\u001b[0m\u001b[0mimage_size\u001b[0m\u001b[0;34m)\u001b[0m\u001b[0;34m)\u001b[0m\u001b[0;34m\u001b[0m\u001b[0;34m\u001b[0m\u001b[0m\n",
            "\u001b[0;31merror\u001b[0m: OpenCV(4.1.2) /io/opencv/modules/imgproc/src/color.cpp:182: error: (-215:Assertion failed) !_src.empty() in function 'cvtColor'\n"
          ]
        }
      ]
    },
    {
      "cell_type": "markdown",
      "source": [
        "# Transfer Learning\n",
        "\n",
        "https://github.com/keras-team/keras-applications"
      ],
      "metadata": {
        "id": "WaWYfjiHYP0K"
      }
    },
    {
      "cell_type": "code",
      "source": [
        "import os\n",
        "import math\n",
        "import cv2\n",
        "import numpy as np\n",
        "import pandas as pd\n",
        "import tensorflow as tf\n",
        "from tensorflow.keras.applications import EfficientNetB0\n",
        "from tensorflow import keras\n",
        "from tensorflow.keras import layers\n",
        "from tensorflow.keras import activations\n",
        "\n",
        "os.environ['CUDA_VISIBLE_DEVICES'] = '3'"
      ],
      "metadata": {
        "id": "l05Oh_SLYQPS"
      },
      "execution_count": null,
      "outputs": []
    },
    {
      "cell_type": "code",
      "source": [
        "from tensorflow import keras\n",
        "from tensorflow.keras import layers\n",
        "from tensorflow.keras import activations\n",
        "from tensorflow.keras.applications import EfficientNetB0\n",
        "\n",
        "def get_model(input_shape):\n",
        "    inputs = keras.Input(input_shape)\n",
        "    base_model = EfficientNetB0(\n",
        "        input_shape=input_shape,\n",
        "        weights='imagenet',\n",
        "        include_top=False,\n",
        "        pooling='avg'\n",
        "    )\n",
        "    \n",
        "    x = base_model(inputs)\n",
        "    output = layers.Dense(1, activation='sigmoid')(x)\n",
        "    model = keras.Model(inputs, output)\n",
        "    \n",
        "    return model\n",
        "\n",
        "input_shape = (256, 256, 3)\n",
        "model = get_model(input_shape)\n",
        "\n",
        "adam = keras.optimizers.Adam(lr=0.0001)\n",
        "\n",
        "model.compile(\n",
        "    optimizer=adam,\n",
        "    loss='binary_crossentropy',\n",
        "    metrics='accuracy'\n",
        ")\n",
        "\n",
        "model.summary()"
      ],
      "metadata": {
        "colab": {
          "base_uri": "https://localhost:8080/"
        },
        "id": "1Dmz9_oJYRMK",
        "outputId": "d1d32554-4e13-459f-ff28-d5fa46f890de"
      },
      "execution_count": null,
      "outputs": [
        {
          "output_type": "stream",
          "name": "stdout",
          "text": [
            "Downloading data from https://storage.googleapis.com/keras-applications/efficientnetb0_notop.h5\n",
            "16711680/16705208 [==============================] - 0s 0us/step\n",
            "16719872/16705208 [==============================] - 0s 0us/step\n",
            "Model: \"model_1\"\n",
            "_________________________________________________________________\n",
            " Layer (type)                Output Shape              Param #   \n",
            "=================================================================\n",
            " input_5 (InputLayer)        [(None, 256, 256, 3)]     0         \n",
            "                                                                 \n",
            " efficientnetb0 (Functional)  (None, 1280)             4049571   \n",
            "                                                                 \n",
            " dense_10 (Dense)            (None, 1)                 1281      \n",
            "                                                                 \n",
            "=================================================================\n",
            "Total params: 4,050,852\n",
            "Trainable params: 4,008,829\n",
            "Non-trainable params: 42,023\n",
            "_________________________________________________________________\n"
          ]
        },
        {
          "output_type": "stream",
          "name": "stderr",
          "text": [
            "/usr/local/lib/python3.7/dist-packages/keras/optimizer_v2/adam.py:105: UserWarning: The `lr` argument is deprecated, use `learning_rate` instead.\n",
            "  super(Adam, self).__init__(name, **kwargs)\n"
          ]
        }
      ]
    },
    {
      "cell_type": "code",
      "source": [
        "import albumentations as A\n",
        "import cv2\n",
        "\n",
        "class Augmentation:\n",
        "    def __init__(self, size, mode='train'):\n",
        "        if mode == 'train':\n",
        "            # Declare an augmentation pipeline\n",
        "            self.transform = A.Compose([\n",
        "                A.HorizontalFlip(p=0.5),\n",
        "                A.ShiftScaleRotate(\n",
        "                    p=0.5,\n",
        "                    shift_limit=0.05,\n",
        "                    scale_limit=0.05,\n",
        "                    rotate_limit=15,\n",
        "                ),\n",
        "                A.CoarseDropout(\n",
        "                    p=0.5,\n",
        "                    max_holes=8,\n",
        "                    max_height=int(0.1 * size),\n",
        "                    max_width=int(0.1 * size)\n",
        "                ),\n",
        "                A.RandomBrightnessContrast(p=0.2),\n",
        "            ])\n",
        "    def __call__(self, **kwargs):\n",
        "        if self.transform:\n",
        "            augmented = self.transform(**kwargs)\n",
        "            img = augmented['image']\n",
        "            return img"
      ],
      "metadata": {
        "id": "Aq0wLq3sYSqS"
      },
      "execution_count": null,
      "outputs": []
    },
    {
      "cell_type": "code",
      "source": [
        "class DataGenerator(keras.utils.Sequence):\n",
        "    def __init__(self, batch_size, csv_path, image_size,\n",
        "                 fold, mode='train', shuffle=True):\n",
        "        self.fold = fold\n",
        "        self.shuffle = shuffle\n",
        "        self.mode = mode\n",
        "        self.batch_size = batch_size\n",
        "        self.image_size = image_size\n",
        "        \n",
        "        self.df = pd.read_csv(csv_path)\n",
        "        if self.mode == 'train':    \n",
        "            self.df = self.df[self.df['fold'] != self.fold]\n",
        "        elif self.mode == 'val':\n",
        "            self.df = self.df[self.df['fold'] == self.fold]\n",
        "        \n",
        "        #### Remove invalid files\n",
        "        #### https://github.com/tensorflow/models/issues/3134\n",
        "        invalid_filenames = [\n",
        "            'Egyptian_Mau_14',\n",
        "            'Egyptian_Mau_139',\n",
        "            'Egyptian_Mau_145',\n",
        "            'Egyptian_Mau_156',\n",
        "            'Egyptian_Mau_167',\n",
        "            'Egyptian_Mau_177',\n",
        "            'Egyptian_Mau_186',\n",
        "            'Egyptian_Mau_191',\n",
        "            'Abyssinian_5',\n",
        "            'Abyssinian_34',\n",
        "            'chihuahua_121',\n",
        "            'beagle_116'\n",
        "        ]\n",
        "        self.df = self.df[~self.df['file_name'].isin(invalid_filenames)]\n",
        "        self.transform = Augmentation(image_size, mode)\n",
        "        \n",
        "        self.on_epoch_end()\n",
        "            \n",
        "    def __len__(self):\n",
        "        return math.ceil(len(self.df) / self.batch_size)\n",
        "    \n",
        "    def __getitem__(self, idx):\n",
        "        strt = idx * self.batch_size\n",
        "        fin = (idx + 1) * self.batch_size\n",
        "        data = self.df.iloc[strt:fin]\n",
        "        \n",
        "        batch_x, batch_y = self.get_data(data)\n",
        "\n",
        "        return np.array(batch_x), np.array(batch_y)\n",
        "        \n",
        "    def get_data(self, data):\n",
        "        batch_x = []\n",
        "        batch_y = []\n",
        "    \n",
        "        for _, r in data.iterrows():\n",
        "            file_name = r['file_name']\n",
        "\n",
        "            image = cv2.imread(f'data/images/{file_name}.jpg')\n",
        "            image = cv2.cvtColor(image, cv2.COLOR_BGR2RGB)\n",
        "            image = cv2.resize(image, (self.image_size, self.image_size))\n",
        "            \n",
        "            if self.mode == 'train':\n",
        "                image = image.astype('uint8')\n",
        "                image = self.transform(image=image)\n",
        "                \n",
        "            image = image.astype('float32')\n",
        "            image = image / 255.\n",
        "\n",
        "            label = int(r['species']) - 1\n",
        "\n",
        "            batch_x.append(image)\n",
        "            batch_y.append(label)\n",
        "        \n",
        "        return batch_x, batch_y\n",
        "        \n",
        "    def on_epoch_end(self):\n",
        "        if self.shuffle:\n",
        "            self.df = self.df.sample(frac=1).reset_index(drop=True)\n",
        "            \n",
        "csv_path = '/content/drive/MyDrive/data/kfolds.csv'\n",
        "train_generator = DataGenerator(\n",
        "    fold=1,\n",
        "    mode='train',\n",
        "    csv_path=csv_path,\n",
        "    batch_size=128,\n",
        "    image_size=256,\n",
        "    shuffle=True)\n",
        "\n",
        "valid_generator = DataGenerator(\n",
        "    fold=1,\n",
        "    mode='val',\n",
        "    csv_path=csv_path,\n",
        "    batch_size=128,\n",
        "    image_size=256,\n",
        "    shuffle=True)"
      ],
      "metadata": {
        "colab": {
          "base_uri": "https://localhost:8080/",
          "height": 380
        },
        "id": "aa-SKu3JYW2y",
        "outputId": "179af928-6c51-4872-e1dd-a69e7933502c"
      },
      "execution_count": null,
      "outputs": [
        {
          "output_type": "error",
          "ename": "AttributeError",
          "evalue": "ignored",
          "traceback": [
            "\u001b[0;31m---------------------------------------------------------------------------\u001b[0m",
            "\u001b[0;31mAttributeError\u001b[0m                            Traceback (most recent call last)",
            "\u001b[0;32m<ipython-input-125-8ab7cd3f854b>\u001b[0m in \u001b[0;36m<module>\u001b[0;34m()\u001b[0m\n\u001b[1;32m     83\u001b[0m     \u001b[0mbatch_size\u001b[0m\u001b[0;34m=\u001b[0m\u001b[0;36m128\u001b[0m\u001b[0;34m,\u001b[0m\u001b[0;34m\u001b[0m\u001b[0;34m\u001b[0m\u001b[0m\n\u001b[1;32m     84\u001b[0m     \u001b[0mimage_size\u001b[0m\u001b[0;34m=\u001b[0m\u001b[0;36m256\u001b[0m\u001b[0;34m,\u001b[0m\u001b[0;34m\u001b[0m\u001b[0;34m\u001b[0m\u001b[0m\n\u001b[0;32m---> 85\u001b[0;31m     shuffle=True)\n\u001b[0m\u001b[1;32m     86\u001b[0m \u001b[0;34m\u001b[0m\u001b[0m\n\u001b[1;32m     87\u001b[0m valid_generator = DataGenerator(\n",
            "\u001b[0;32m<ipython-input-125-8ab7cd3f854b>\u001b[0m in \u001b[0;36m__init__\u001b[0;34m(self, batch_size, csv_path, image_size, fold, mode, shuffle)\u001b[0m\n\u001b[1;32m     31\u001b[0m         ]\n\u001b[1;32m     32\u001b[0m         \u001b[0mself\u001b[0m\u001b[0;34m.\u001b[0m\u001b[0mdf\u001b[0m \u001b[0;34m=\u001b[0m \u001b[0mself\u001b[0m\u001b[0;34m.\u001b[0m\u001b[0mdf\u001b[0m\u001b[0;34m[\u001b[0m\u001b[0;34m~\u001b[0m\u001b[0mself\u001b[0m\u001b[0;34m.\u001b[0m\u001b[0mdf\u001b[0m\u001b[0;34m[\u001b[0m\u001b[0;34m'file_name'\u001b[0m\u001b[0;34m]\u001b[0m\u001b[0;34m.\u001b[0m\u001b[0misin\u001b[0m\u001b[0;34m(\u001b[0m\u001b[0minvalid_filenames\u001b[0m\u001b[0;34m)\u001b[0m\u001b[0;34m]\u001b[0m\u001b[0;34m\u001b[0m\u001b[0;34m\u001b[0m\u001b[0m\n\u001b[0;32m---> 33\u001b[0;31m         \u001b[0mself\u001b[0m\u001b[0;34m.\u001b[0m\u001b[0mtransform\u001b[0m \u001b[0;34m=\u001b[0m \u001b[0mAugmentation\u001b[0m\u001b[0;34m(\u001b[0m\u001b[0mimage_size\u001b[0m\u001b[0;34m,\u001b[0m \u001b[0mmode\u001b[0m\u001b[0;34m)\u001b[0m\u001b[0;34m\u001b[0m\u001b[0;34m\u001b[0m\u001b[0m\n\u001b[0m\u001b[1;32m     34\u001b[0m \u001b[0;34m\u001b[0m\u001b[0m\n\u001b[1;32m     35\u001b[0m         \u001b[0mself\u001b[0m\u001b[0;34m.\u001b[0m\u001b[0mon_epoch_end\u001b[0m\u001b[0;34m(\u001b[0m\u001b[0;34m)\u001b[0m\u001b[0;34m\u001b[0m\u001b[0;34m\u001b[0m\u001b[0m\n",
            "\u001b[0;32m<ipython-input-123-febfdbd2fd5e>\u001b[0m in \u001b[0;36m__init__\u001b[0;34m(self, size, mode)\u001b[0m\n\u001b[1;32m     14\u001b[0m                     \u001b[0mrotate_limit\u001b[0m\u001b[0;34m=\u001b[0m\u001b[0;36m15\u001b[0m\u001b[0;34m,\u001b[0m\u001b[0;34m\u001b[0m\u001b[0;34m\u001b[0m\u001b[0m\n\u001b[1;32m     15\u001b[0m                 ),\n\u001b[0;32m---> 16\u001b[0;31m                 A.CoarseDropout(\n\u001b[0m\u001b[1;32m     17\u001b[0m                     \u001b[0mp\u001b[0m\u001b[0;34m=\u001b[0m\u001b[0;36m0.5\u001b[0m\u001b[0;34m,\u001b[0m\u001b[0;34m\u001b[0m\u001b[0;34m\u001b[0m\u001b[0m\n\u001b[1;32m     18\u001b[0m                     \u001b[0mmax_holes\u001b[0m\u001b[0;34m=\u001b[0m\u001b[0;36m8\u001b[0m\u001b[0;34m,\u001b[0m\u001b[0;34m\u001b[0m\u001b[0;34m\u001b[0m\u001b[0m\n",
            "\u001b[0;31mAttributeError\u001b[0m: module 'albumentations' has no attribute 'CoarseDropout'"
          ]
        }
      ]
    },
    {
      "cell_type": "code",
      "source": [
        "history = model.fit(\n",
        "    train_generator,\n",
        "    validation_data=valid_generator,\n",
        "    epochs=10,\n",
        "    verbose=1\n",
        ")"
      ],
      "metadata": {
        "colab": {
          "base_uri": "https://localhost:8080/",
          "height": 380
        },
        "id": "AdkZt6LMYYBD",
        "outputId": "a9ca8a9a-fb2b-4b16-d135-6e86869f13da"
      },
      "execution_count": null,
      "outputs": [
        {
          "output_type": "error",
          "ename": "error",
          "evalue": "ignored",
          "traceback": [
            "\u001b[0;31m---------------------------------------------------------------------------\u001b[0m",
            "\u001b[0;31merror\u001b[0m                                     Traceback (most recent call last)",
            "\u001b[0;32m<ipython-input-126-9a109b059bfe>\u001b[0m in \u001b[0;36m<module>\u001b[0;34m()\u001b[0m\n\u001b[1;32m      3\u001b[0m     \u001b[0mvalidation_data\u001b[0m\u001b[0;34m=\u001b[0m\u001b[0mvalid_generator\u001b[0m\u001b[0;34m,\u001b[0m\u001b[0;34m\u001b[0m\u001b[0;34m\u001b[0m\u001b[0m\n\u001b[1;32m      4\u001b[0m     \u001b[0mepochs\u001b[0m\u001b[0;34m=\u001b[0m\u001b[0;36m10\u001b[0m\u001b[0;34m,\u001b[0m\u001b[0;34m\u001b[0m\u001b[0;34m\u001b[0m\u001b[0m\n\u001b[0;32m----> 5\u001b[0;31m     \u001b[0mverbose\u001b[0m\u001b[0;34m=\u001b[0m\u001b[0;36m1\u001b[0m\u001b[0;34m\u001b[0m\u001b[0;34m\u001b[0m\u001b[0m\n\u001b[0m\u001b[1;32m      6\u001b[0m )\n",
            "\u001b[0;32m/usr/local/lib/python3.7/dist-packages/keras/utils/traceback_utils.py\u001b[0m in \u001b[0;36merror_handler\u001b[0;34m(*args, **kwargs)\u001b[0m\n\u001b[1;32m     65\u001b[0m     \u001b[0;32mexcept\u001b[0m \u001b[0mException\u001b[0m \u001b[0;32mas\u001b[0m \u001b[0me\u001b[0m\u001b[0;34m:\u001b[0m  \u001b[0;31m# pylint: disable=broad-except\u001b[0m\u001b[0;34m\u001b[0m\u001b[0;34m\u001b[0m\u001b[0m\n\u001b[1;32m     66\u001b[0m       \u001b[0mfiltered_tb\u001b[0m \u001b[0;34m=\u001b[0m \u001b[0m_process_traceback_frames\u001b[0m\u001b[0;34m(\u001b[0m\u001b[0me\u001b[0m\u001b[0;34m.\u001b[0m\u001b[0m__traceback__\u001b[0m\u001b[0;34m)\u001b[0m\u001b[0;34m\u001b[0m\u001b[0;34m\u001b[0m\u001b[0m\n\u001b[0;32m---> 67\u001b[0;31m       \u001b[0;32mraise\u001b[0m \u001b[0me\u001b[0m\u001b[0;34m.\u001b[0m\u001b[0mwith_traceback\u001b[0m\u001b[0;34m(\u001b[0m\u001b[0mfiltered_tb\u001b[0m\u001b[0;34m)\u001b[0m \u001b[0;32mfrom\u001b[0m \u001b[0;32mNone\u001b[0m\u001b[0;34m\u001b[0m\u001b[0;34m\u001b[0m\u001b[0m\n\u001b[0m\u001b[1;32m     68\u001b[0m     \u001b[0;32mfinally\u001b[0m\u001b[0;34m:\u001b[0m\u001b[0;34m\u001b[0m\u001b[0;34m\u001b[0m\u001b[0m\n\u001b[1;32m     69\u001b[0m       \u001b[0;32mdel\u001b[0m \u001b[0mfiltered_tb\u001b[0m\u001b[0;34m\u001b[0m\u001b[0;34m\u001b[0m\u001b[0m\n",
            "\u001b[0;32m<ipython-input-83-2962ac76d1e4>\u001b[0m in \u001b[0;36m__getitem__\u001b[0;34m(self, idx)\u001b[0m\n\u001b[1;32m     41\u001b[0m         \u001b[0mdata\u001b[0m \u001b[0;34m=\u001b[0m \u001b[0mself\u001b[0m\u001b[0;34m.\u001b[0m\u001b[0mdf\u001b[0m\u001b[0;34m.\u001b[0m\u001b[0miloc\u001b[0m\u001b[0;34m[\u001b[0m\u001b[0mstrt\u001b[0m\u001b[0;34m:\u001b[0m\u001b[0mfin\u001b[0m\u001b[0;34m]\u001b[0m\u001b[0;34m\u001b[0m\u001b[0;34m\u001b[0m\u001b[0m\n\u001b[1;32m     42\u001b[0m \u001b[0;34m\u001b[0m\u001b[0m\n\u001b[0;32m---> 43\u001b[0;31m         \u001b[0mbatch_x\u001b[0m\u001b[0;34m,\u001b[0m \u001b[0mbatch_y\u001b[0m \u001b[0;34m=\u001b[0m \u001b[0mself\u001b[0m\u001b[0;34m.\u001b[0m\u001b[0mget_data\u001b[0m\u001b[0;34m(\u001b[0m\u001b[0mdata\u001b[0m\u001b[0;34m)\u001b[0m\u001b[0;34m\u001b[0m\u001b[0;34m\u001b[0m\u001b[0m\n\u001b[0m\u001b[1;32m     44\u001b[0m \u001b[0;34m\u001b[0m\u001b[0m\n\u001b[1;32m     45\u001b[0m         \u001b[0;32mreturn\u001b[0m \u001b[0mnp\u001b[0m\u001b[0;34m.\u001b[0m\u001b[0marray\u001b[0m\u001b[0;34m(\u001b[0m\u001b[0mbatch_x\u001b[0m\u001b[0;34m)\u001b[0m\u001b[0;34m,\u001b[0m \u001b[0mnp\u001b[0m\u001b[0;34m.\u001b[0m\u001b[0marray\u001b[0m\u001b[0;34m(\u001b[0m\u001b[0mbatch_y\u001b[0m\u001b[0;34m)\u001b[0m\u001b[0;34m\u001b[0m\u001b[0;34m\u001b[0m\u001b[0m\n",
            "\u001b[0;32m<ipython-input-83-2962ac76d1e4>\u001b[0m in \u001b[0;36mget_data\u001b[0;34m(self, data)\u001b[0m\n\u001b[1;32m     53\u001b[0m \u001b[0;34m\u001b[0m\u001b[0m\n\u001b[1;32m     54\u001b[0m             \u001b[0mimage\u001b[0m \u001b[0;34m=\u001b[0m \u001b[0mcv2\u001b[0m\u001b[0;34m.\u001b[0m\u001b[0mimread\u001b[0m\u001b[0;34m(\u001b[0m\u001b[0;34mf'data/images/{file_name}.jpg'\u001b[0m\u001b[0;34m)\u001b[0m\u001b[0;34m\u001b[0m\u001b[0;34m\u001b[0m\u001b[0m\n\u001b[0;32m---> 55\u001b[0;31m             \u001b[0mimage\u001b[0m \u001b[0;34m=\u001b[0m \u001b[0mcv2\u001b[0m\u001b[0;34m.\u001b[0m\u001b[0mcvtColor\u001b[0m\u001b[0;34m(\u001b[0m\u001b[0mimage\u001b[0m\u001b[0;34m,\u001b[0m \u001b[0mcv2\u001b[0m\u001b[0;34m.\u001b[0m\u001b[0mCOLOR_BGR2RGB\u001b[0m\u001b[0;34m)\u001b[0m\u001b[0;34m\u001b[0m\u001b[0;34m\u001b[0m\u001b[0m\n\u001b[0m\u001b[1;32m     56\u001b[0m \u001b[0;34m\u001b[0m\u001b[0m\n\u001b[1;32m     57\u001b[0m             \u001b[0mimage\u001b[0m \u001b[0;34m=\u001b[0m \u001b[0mcv2\u001b[0m\u001b[0;34m.\u001b[0m\u001b[0mresize\u001b[0m\u001b[0;34m(\u001b[0m\u001b[0mimage\u001b[0m\u001b[0;34m,\u001b[0m \u001b[0;34m(\u001b[0m\u001b[0mself\u001b[0m\u001b[0;34m.\u001b[0m\u001b[0mimage_size\u001b[0m\u001b[0;34m,\u001b[0m \u001b[0mself\u001b[0m\u001b[0;34m.\u001b[0m\u001b[0mimage_size\u001b[0m\u001b[0;34m)\u001b[0m\u001b[0;34m)\u001b[0m\u001b[0;34m\u001b[0m\u001b[0;34m\u001b[0m\u001b[0m\n",
            "\u001b[0;31merror\u001b[0m: OpenCV(4.1.2) /io/opencv/modules/imgproc/src/color.cpp:182: error: (-215:Assertion failed) !_src.empty() in function 'cvtColor'\n"
          ]
        }
      ]
    },
    {
      "cell_type": "code",
      "source": [
        "import matplotlib.pyplot as plt\n",
        "history = history.history\n",
        "\n",
        "plt.figure(figsize=(15, 5))\n",
        "plt.subplot(1, 2, 1)\n",
        "plt.plot(history['loss'], label='train')\n",
        "plt.plot(history['val_loss'], label='val')\n",
        "plt.legend()\n",
        "plt.xlabel('epoch')\n",
        "plt.ylabel('loss')\n",
        "plt.title(\"Loss\")\n",
        "\n",
        "plt.subplot(1, 2, 2)\n",
        "plt.plot(history['accuracy'], label='train')\n",
        "plt.plot(history['val_accuracy'], label='val')\n",
        "plt.legend()\n",
        "plt.xlabel('epoch')\n",
        "plt.ylabel('accuracy')\n",
        "plt.title(\"Accuracy\")\n",
        "plt.show()"
      ],
      "metadata": {
        "colab": {
          "base_uri": "https://localhost:8080/",
          "height": 235
        },
        "id": "IBNNu9G7YZKr",
        "outputId": "26319343-9520-42f7-c170-cf8021fb985b"
      },
      "execution_count": null,
      "outputs": [
        {
          "output_type": "error",
          "ename": "NameError",
          "evalue": "ignored",
          "traceback": [
            "\u001b[0;31m---------------------------------------------------------------------------\u001b[0m",
            "\u001b[0;31mNameError\u001b[0m                                 Traceback (most recent call last)",
            "\u001b[0;32m<ipython-input-127-63fca5d6dff6>\u001b[0m in \u001b[0;36m<module>\u001b[0;34m()\u001b[0m\n\u001b[1;32m      1\u001b[0m \u001b[0;32mimport\u001b[0m \u001b[0mmatplotlib\u001b[0m\u001b[0;34m.\u001b[0m\u001b[0mpyplot\u001b[0m \u001b[0;32mas\u001b[0m \u001b[0mplt\u001b[0m\u001b[0;34m\u001b[0m\u001b[0;34m\u001b[0m\u001b[0m\n\u001b[0;32m----> 2\u001b[0;31m \u001b[0mhistory\u001b[0m \u001b[0;34m=\u001b[0m \u001b[0mhistory\u001b[0m\u001b[0;34m.\u001b[0m\u001b[0mhistory\u001b[0m\u001b[0;34m\u001b[0m\u001b[0;34m\u001b[0m\u001b[0m\n\u001b[0m\u001b[1;32m      3\u001b[0m \u001b[0;34m\u001b[0m\u001b[0m\n\u001b[1;32m      4\u001b[0m \u001b[0mplt\u001b[0m\u001b[0;34m.\u001b[0m\u001b[0mfigure\u001b[0m\u001b[0;34m(\u001b[0m\u001b[0mfigsize\u001b[0m\u001b[0;34m=\u001b[0m\u001b[0;34m(\u001b[0m\u001b[0;36m15\u001b[0m\u001b[0;34m,\u001b[0m \u001b[0;36m5\u001b[0m\u001b[0;34m)\u001b[0m\u001b[0;34m)\u001b[0m\u001b[0;34m\u001b[0m\u001b[0;34m\u001b[0m\u001b[0m\n\u001b[1;32m      5\u001b[0m \u001b[0mplt\u001b[0m\u001b[0;34m.\u001b[0m\u001b[0msubplot\u001b[0m\u001b[0;34m(\u001b[0m\u001b[0;36m1\u001b[0m\u001b[0;34m,\u001b[0m \u001b[0;36m2\u001b[0m\u001b[0;34m,\u001b[0m \u001b[0;36m1\u001b[0m\u001b[0;34m)\u001b[0m\u001b[0;34m\u001b[0m\u001b[0;34m\u001b[0m\u001b[0m\n",
            "\u001b[0;31mNameError\u001b[0m: name 'history' is not defined"
          ]
        }
      ]
    },
    {
      "cell_type": "markdown",
      "source": [
        "# Multiclass Classification"
      ],
      "metadata": {
        "id": "SaKgNVCdYrLT"
      }
    },
    {
      "cell_type": "code",
      "source": [
        "import os\n",
        "import math\n",
        "\n",
        "import cv2\n",
        "import numpy as np\n",
        "import pandas as pd\n",
        "import tensorflow as tf\n",
        "import matplotlib.pyplot as plt\n",
        "\n",
        "os.environ['CUDA_VISIBLE_DEVICES'] = '3'"
      ],
      "metadata": {
        "id": "3LXY7gPCYsC8"
      },
      "execution_count": null,
      "outputs": []
    },
    {
      "cell_type": "code",
      "source": [
        "#Image CLASS-ID SPECIES BREED ID\n",
        "#ID: 1:37 Class ids\n",
        "#SPECIES: 1:Cat 2:Dog\n",
        "#BREED ID: 1-25:Cat 1:12:Dog\n",
        "#All images with 1st letter as captial are cat images\n",
        "#images with small first letter are dog images\n",
        "\n",
        "csv_path = '/content/drive/MyDrive/data/kfolds.csv'\n",
        "df = pd.read_csv(csv_path)\n",
        "np.unique(df['id'])\n",
        "\n",
        "value_counts = df['id'].value_counts().sort_index()\n",
        "plt.figure(figsize=(10, 5))\n",
        "plt.bar(range(len(value_counts)), value_counts.values)\n",
        "plt.xticks(range(len(value_counts)), value_counts.index.values)\n",
        "plt.tight_layout()\n",
        "plt.show()"
      ],
      "metadata": {
        "colab": {
          "base_uri": "https://localhost:8080/",
          "height": 327
        },
        "id": "zlwvYfwvYtGV",
        "outputId": "a59dc328-aa12-4bb5-b39e-d0b755541fca"
      },
      "execution_count": null,
      "outputs": [
        {
          "output_type": "display_data",
          "data": {
            "text/plain": [
              "<Figure size 720x360 with 1 Axes>"
            ],
            "image/png": "[encoded data removed]"
          },
          "metadata": {}
        }
      ]
    },
    {
      "cell_type": "code",
      "source": [
        "from tensorflow import keras\n",
        "from tensorflow.keras import layers\n",
        "from tensorflow.keras import activations\n",
        "from tensorflow.keras.applications import EfficientNetB0\n",
        "\n",
        "def get_model(input_shape):\n",
        "    inputs = keras.Input(input_shape)\n",
        "    base_model = EfficientNetB0(\n",
        "        input_shape=input_shape,\n",
        "        weights='imagenet',\n",
        "        include_top=False,\n",
        "        pooling='avg'\n",
        "    )\n",
        "    \n",
        "    x = base_model(inputs)\n",
        "    output = layers.Dense(37, activation='softmax')(x)\n",
        "    model = keras.Model(inputs, output)\n",
        "    \n",
        "    return model\n",
        "\n",
        "input_shape = (256, 256, 3)\n",
        "model = get_model(input_shape)\n",
        "\n",
        "adam = keras.optimizers.Adam(lr=0.0001)\n",
        "\n",
        "model.compile(\n",
        "    optimizer=adam,\n",
        "    loss='sparse_categorical_crossentropy',\n",
        "    metrics='accuracy'\n",
        ")\n",
        "\n",
        "model.summary()"
      ],
      "metadata": {
        "colab": {
          "base_uri": "https://localhost:8080/"
        },
        "id": "o7FJI5G8Yu-z",
        "outputId": "b46fa127-9aa6-4475-8aff-4aba98edd569"
      },
      "execution_count": null,
      "outputs": [
        {
          "output_type": "stream",
          "name": "stdout",
          "text": [
            "Model: \"model_2\"\n",
            "_________________________________________________________________\n",
            " Layer (type)                Output Shape              Param #   \n",
            "=================================================================\n",
            " input_7 (InputLayer)        [(None, 256, 256, 3)]     0         \n",
            "                                                                 \n",
            " efficientnetb0 (Functional)  (None, 1280)             4049571   \n",
            "                                                                 \n",
            " dense_11 (Dense)            (None, 37)                47397     \n",
            "                                                                 \n",
            "=================================================================\n",
            "Total params: 4,096,968\n",
            "Trainable params: 4,054,945\n",
            "Non-trainable params: 42,023\n",
            "_________________________________________________________________\n"
          ]
        },
        {
          "output_type": "stream",
          "name": "stderr",
          "text": [
            "/usr/local/lib/python3.7/dist-packages/keras/optimizer_v2/adam.py:105: UserWarning: The `lr` argument is deprecated, use `learning_rate` instead.\n",
            "  super(Adam, self).__init__(name, **kwargs)\n"
          ]
        }
      ]
    },
    {
      "cell_type": "code",
      "source": [
        "import albumentations as A\n",
        "import cv2\n",
        "\n",
        "class Augmentation:\n",
        "    def __init__(self, size, mode='train'):\n",
        "        if mode == 'train':\n",
        "            # Declare an augmentation pipeline\n",
        "            self.transform = A.Compose([\n",
        "                A.HorizontalFlip(p=0.5),\n",
        "                A.ShiftScaleRotate(\n",
        "                    p=0.5,\n",
        "                    shift_limit=0.05,\n",
        "                    scale_limit=0.05,\n",
        "                    rotate_limit=15,\n",
        "                ),\n",
        "                A.CoarseDropout(\n",
        "                    p=0.5,\n",
        "                    max_holes=8,\n",
        "                    max_height=int(0.1 * size),\n",
        "                    max_width=int(0.1 * size)\n",
        "                ),\n",
        "                A.RandomBrightnessContrast(p=0.2),\n",
        "            ])\n",
        "    def __call__(self, **kwargs):\n",
        "        if self.transform:\n",
        "            augmented = self.transform(**kwargs)\n",
        "            img = augmented['image']\n",
        "            return img"
      ],
      "metadata": {
        "id": "B8oAqwtXYwLD"
      },
      "execution_count": null,
      "outputs": []
    },
    {
      "cell_type": "code",
      "source": [
        "class DataGenerator(keras.utils.Sequence):\n",
        "    def __init__(self, batch_size, csv_path, image_size,\n",
        "                 fold, mode='train', shuffle=True):\n",
        "        self.fold = fold\n",
        "        self.shuffle = shuffle\n",
        "        self.mode = mode\n",
        "        self.batch_size = batch_size\n",
        "        self.image_size = image_size\n",
        "        \n",
        "        self.df = pd.read_csv(csv_path)\n",
        "        if self.mode == 'train':    \n",
        "            self.df = self.df[self.df['fold'] != self.fold]\n",
        "        elif self.mode == 'val':\n",
        "            self.df = self.df[self.df['fold'] == self.fold]\n",
        "        \n",
        "        #### Remove invalid files\n",
        "        #### https://github.com/tensorflow/models/issues/3134\n",
        "        invalid_filenames = [\n",
        "            'Egyptian_Mau_14',\n",
        "            'Egyptian_Mau_139',\n",
        "            'Egyptian_Mau_145',\n",
        "            'Egyptian_Mau_156',\n",
        "            'Egyptian_Mau_167',\n",
        "            'Egyptian_Mau_177',\n",
        "            'Egyptian_Mau_186',\n",
        "            'Egyptian_Mau_191',\n",
        "            'Abyssinian_5',\n",
        "            'Abyssinian_34',\n",
        "            'chihuahua_121',\n",
        "            'beagle_116'\n",
        "        ]\n",
        "        self.df = self.df[~self.df['file_name'].isin(invalid_filenames)]\n",
        "        self.transform = Augmentation(image_size, mode)\n",
        "        \n",
        "        self.on_epoch_end()\n",
        "            \n",
        "    def __len__(self):\n",
        "        return math.ceil(len(self.df) / self.batch_size)\n",
        "    \n",
        "    def __getitem__(self, idx):\n",
        "        strt = idx * self.batch_size\n",
        "        fin = (idx + 1) * self.batch_size\n",
        "        data = self.df.iloc[strt:fin]\n",
        "        \n",
        "        batch_x, batch_y = self.get_data(data)\n",
        "\n",
        "        return np.array(batch_x), np.array(batch_y)\n",
        "        \n",
        "    def get_data(self, data):\n",
        "        batch_x = []\n",
        "        batch_y = []\n",
        "    \n",
        "        for _, r in data.iterrows():\n",
        "            file_name = r['file_name']\n",
        "\n",
        "            image = cv2.imread(f'content/drive/MyDrive/data/images/{file_name}.jpg')\n",
        "            image = cv2.cvtColor(image, cv2.COLOR_BGR2RGB)\n",
        "            image = cv2.resize(image, (self.image_size, self.image_size))\n",
        "            \n",
        "            if self.mode == 'train':\n",
        "                image = image.astype('uint8')\n",
        "                image = self.transform(image=image)\n",
        "                \n",
        "            image = image.astype('float32')\n",
        "            image = image / 255.\n",
        "\n",
        "            label = int(r['id']) - 1\n",
        "\n",
        "            batch_x.append(image)\n",
        "            batch_y.append(label)\n",
        "        \n",
        "        return batch_x, batch_y\n",
        "        \n",
        "    def on_epoch_end(self):\n",
        "        if self.shuffle:\n",
        "            self.df = self.df.sample(frac=1).reset_index(drop=True)\n",
        "            \n",
        "csv_path = '/content/drive/MyDrive/data/kfolds.csv'\n",
        "train_generator = DataGenerator(\n",
        "    fold=1,\n",
        "    mode='train',\n",
        "    csv_path=csv_path,\n",
        "    batch_size=128,\n",
        "    image_size=256,\n",
        "    shuffle=True)\n",
        "\n",
        "valid_generator = DataGenerator(\n",
        "    fold=1,\n",
        "    mode='val',\n",
        "    csv_path=csv_path,\n",
        "    batch_size=128,\n",
        "    image_size=256,\n",
        "    shuffle=True)"
      ],
      "metadata": {
        "colab": {
          "base_uri": "https://localhost:8080/",
          "height": 380
        },
        "id": "wsdZjV9vYzCk",
        "outputId": "f34f6091-f27a-4d69-e293-818f56bd98bf"
      },
      "execution_count": null,
      "outputs": [
        {
          "output_type": "error",
          "ename": "AttributeError",
          "evalue": "ignored",
          "traceback": [
            "\u001b[0;31m---------------------------------------------------------------------------\u001b[0m",
            "\u001b[0;31mAttributeError\u001b[0m                            Traceback (most recent call last)",
            "\u001b[0;32m<ipython-input-136-bc3e658be1d8>\u001b[0m in \u001b[0;36m<module>\u001b[0;34m()\u001b[0m\n\u001b[1;32m     83\u001b[0m     \u001b[0mbatch_size\u001b[0m\u001b[0;34m=\u001b[0m\u001b[0;36m128\u001b[0m\u001b[0;34m,\u001b[0m\u001b[0;34m\u001b[0m\u001b[0;34m\u001b[0m\u001b[0m\n\u001b[1;32m     84\u001b[0m     \u001b[0mimage_size\u001b[0m\u001b[0;34m=\u001b[0m\u001b[0;36m256\u001b[0m\u001b[0;34m,\u001b[0m\u001b[0;34m\u001b[0m\u001b[0;34m\u001b[0m\u001b[0m\n\u001b[0;32m---> 85\u001b[0;31m     shuffle=True)\n\u001b[0m\u001b[1;32m     86\u001b[0m \u001b[0;34m\u001b[0m\u001b[0m\n\u001b[1;32m     87\u001b[0m valid_generator = DataGenerator(\n",
            "\u001b[0;32m<ipython-input-136-bc3e658be1d8>\u001b[0m in \u001b[0;36m__init__\u001b[0;34m(self, batch_size, csv_path, image_size, fold, mode, shuffle)\u001b[0m\n\u001b[1;32m     31\u001b[0m         ]\n\u001b[1;32m     32\u001b[0m         \u001b[0mself\u001b[0m\u001b[0;34m.\u001b[0m\u001b[0mdf\u001b[0m \u001b[0;34m=\u001b[0m \u001b[0mself\u001b[0m\u001b[0;34m.\u001b[0m\u001b[0mdf\u001b[0m\u001b[0;34m[\u001b[0m\u001b[0;34m~\u001b[0m\u001b[0mself\u001b[0m\u001b[0;34m.\u001b[0m\u001b[0mdf\u001b[0m\u001b[0;34m[\u001b[0m\u001b[0;34m'file_name'\u001b[0m\u001b[0;34m]\u001b[0m\u001b[0;34m.\u001b[0m\u001b[0misin\u001b[0m\u001b[0;34m(\u001b[0m\u001b[0minvalid_filenames\u001b[0m\u001b[0;34m)\u001b[0m\u001b[0;34m]\u001b[0m\u001b[0;34m\u001b[0m\u001b[0;34m\u001b[0m\u001b[0m\n\u001b[0;32m---> 33\u001b[0;31m         \u001b[0mself\u001b[0m\u001b[0;34m.\u001b[0m\u001b[0mtransform\u001b[0m \u001b[0;34m=\u001b[0m \u001b[0mAugmentation\u001b[0m\u001b[0;34m(\u001b[0m\u001b[0mimage_size\u001b[0m\u001b[0;34m,\u001b[0m \u001b[0mmode\u001b[0m\u001b[0;34m)\u001b[0m\u001b[0;34m\u001b[0m\u001b[0;34m\u001b[0m\u001b[0m\n\u001b[0m\u001b[1;32m     34\u001b[0m \u001b[0;34m\u001b[0m\u001b[0m\n\u001b[1;32m     35\u001b[0m         \u001b[0mself\u001b[0m\u001b[0;34m.\u001b[0m\u001b[0mon_epoch_end\u001b[0m\u001b[0;34m(\u001b[0m\u001b[0;34m)\u001b[0m\u001b[0;34m\u001b[0m\u001b[0;34m\u001b[0m\u001b[0m\n",
            "\u001b[0;32m<ipython-input-132-febfdbd2fd5e>\u001b[0m in \u001b[0;36m__init__\u001b[0;34m(self, size, mode)\u001b[0m\n\u001b[1;32m     14\u001b[0m                     \u001b[0mrotate_limit\u001b[0m\u001b[0;34m=\u001b[0m\u001b[0;36m15\u001b[0m\u001b[0;34m,\u001b[0m\u001b[0;34m\u001b[0m\u001b[0;34m\u001b[0m\u001b[0m\n\u001b[1;32m     15\u001b[0m                 ),\n\u001b[0;32m---> 16\u001b[0;31m                 A.CoarseDropout(\n\u001b[0m\u001b[1;32m     17\u001b[0m                     \u001b[0mp\u001b[0m\u001b[0;34m=\u001b[0m\u001b[0;36m0.5\u001b[0m\u001b[0;34m,\u001b[0m\u001b[0;34m\u001b[0m\u001b[0;34m\u001b[0m\u001b[0m\n\u001b[1;32m     18\u001b[0m                     \u001b[0mmax_holes\u001b[0m\u001b[0;34m=\u001b[0m\u001b[0;36m8\u001b[0m\u001b[0;34m,\u001b[0m\u001b[0;34m\u001b[0m\u001b[0;34m\u001b[0m\u001b[0m\n",
            "\u001b[0;31mAttributeError\u001b[0m: module 'albumentations' has no attribute 'CoarseDropout'"
          ]
        }
      ]
    },
    {
      "cell_type": "code",
      "source": [
        "history = model.fit(\n",
        "    train_generator,\n",
        "    validation_data=valid_generator,\n",
        "    epochs=10,\n",
        "    verbose=1\n",
        ")"
      ],
      "metadata": {
        "id": "1V-HGKQwY0Bc"
      },
      "execution_count": null,
      "outputs": []
    },
    {
      "cell_type": "code",
      "source": [
        "import matplotlib.pyplot as plt\n",
        "history = history.history\n",
        "\n",
        "plt.figure(figsize=(15, 5))\n",
        "plt.subplot(1, 2, 1)\n",
        "plt.plot(history['loss'], label='train')\n",
        "plt.plot(history['val_loss'], label='val')\n",
        "plt.legend()\n",
        "plt.xlabel('epoch')\n",
        "plt.ylabel('loss')\n",
        "plt.title(\"Loss\")\n",
        "\n",
        "plt.subplot(1, 2, 2)\n",
        "plt.plot(history['accuracy'], label='train')\n",
        "plt.plot(history['val_accuracy'], label='val')\n",
        "plt.legend()\n",
        "plt.xlabel('epoch')\n",
        "plt.ylabel('accuracy')\n",
        "plt.title(\"Accuracy\")\n",
        "plt.show()"
      ],
      "metadata": {
        "id": "2C0uOiH3Y0-j"
      },
      "execution_count": null,
      "outputs": []
    },
    {
      "cell_type": "markdown",
      "source": [
        "# IoU / Dice coefficient"
      ],
      "metadata": {
        "id": "NT_qgELBZoPs"
      }
    },
    {
      "cell_type": "code",
      "source": [
        "import os\n",
        "import cv2\n",
        "import numpy as np\n",
        "import matplotlib.pyplot as plt\n",
        "import tensorflow as tf\n",
        "import tensorflow.keras.losses as losses\n",
        "from glob import glob"
      ],
      "metadata": {
        "id": "lwu2TAr0Zojb"
      },
      "execution_count": null,
      "outputs": []
    },
    {
      "cell_type": "code",
      "source": [
        "#trimaps/ Trimap annotations for every image in the dataset\n",
        "#    Pixel Annotations: 1: Foreground 2:Background 3: Not classified\n",
        "\n",
        "image_files = glob('data/images/*.jpg')\n",
        "image_path = image_files[134]\n",
        "seg_path = image_path.replace('images', 'annotations/trimaps')\n",
        "seg_path = seg_path.replace('jpg', 'png')\n",
        "\n",
        "image = cv2.imread(image_path)\n",
        "image = cv2.cvtColor(image, cv2.COLOR_BGR2RGB)\n",
        "seg_map = cv2.imread(seg_path, cv2.IMREAD_GRAYSCALE)\n",
        "\n",
        "plt.figure(figsize=(15, 15))\n",
        "plt.subplot(1, 2, 1)\n",
        "plt.imshow(image)\n",
        "plt.subplot(1, 2, 2)\n",
        "plt.imshow(seg_map)\n",
        "plt.show()"
      ],
      "metadata": {
        "colab": {
          "base_uri": "https://localhost:8080/",
          "height": 235
        },
        "id": "fXKJ4aJSZpY0",
        "outputId": "75ce44c4-8142-4eaa-f498-6b7c8b8d4e53"
      },
      "execution_count": null,
      "outputs": [
        {
          "output_type": "error",
          "ename": "IndexError",
          "evalue": "ignored",
          "traceback": [
            "\u001b[0;31m---------------------------------------------------------------------------\u001b[0m",
            "\u001b[0;31mIndexError\u001b[0m                                Traceback (most recent call last)",
            "\u001b[0;32m<ipython-input-138-cde571204824>\u001b[0m in \u001b[0;36m<module>\u001b[0;34m()\u001b[0m\n\u001b[1;32m      3\u001b[0m \u001b[0;34m\u001b[0m\u001b[0m\n\u001b[1;32m      4\u001b[0m \u001b[0mimage_files\u001b[0m \u001b[0;34m=\u001b[0m \u001b[0mglob\u001b[0m\u001b[0;34m(\u001b[0m\u001b[0;34m'data/images/*.jpg'\u001b[0m\u001b[0;34m)\u001b[0m\u001b[0;34m\u001b[0m\u001b[0;34m\u001b[0m\u001b[0m\n\u001b[0;32m----> 5\u001b[0;31m \u001b[0mimage_path\u001b[0m \u001b[0;34m=\u001b[0m \u001b[0mimage_files\u001b[0m\u001b[0;34m[\u001b[0m\u001b[0;36m134\u001b[0m\u001b[0;34m]\u001b[0m\u001b[0;34m\u001b[0m\u001b[0;34m\u001b[0m\u001b[0m\n\u001b[0m\u001b[1;32m      6\u001b[0m \u001b[0mseg_path\u001b[0m \u001b[0;34m=\u001b[0m \u001b[0mimage_path\u001b[0m\u001b[0;34m.\u001b[0m\u001b[0mreplace\u001b[0m\u001b[0;34m(\u001b[0m\u001b[0;34m'images'\u001b[0m\u001b[0;34m,\u001b[0m \u001b[0;34m'annotations/trimaps'\u001b[0m\u001b[0;34m)\u001b[0m\u001b[0;34m\u001b[0m\u001b[0;34m\u001b[0m\u001b[0m\n\u001b[1;32m      7\u001b[0m \u001b[0mseg_path\u001b[0m \u001b[0;34m=\u001b[0m \u001b[0mseg_path\u001b[0m\u001b[0;34m.\u001b[0m\u001b[0mreplace\u001b[0m\u001b[0;34m(\u001b[0m\u001b[0;34m'jpg'\u001b[0m\u001b[0;34m,\u001b[0m \u001b[0;34m'png'\u001b[0m\u001b[0;34m)\u001b[0m\u001b[0;34m\u001b[0m\u001b[0;34m\u001b[0m\u001b[0m\n",
            "\u001b[0;31mIndexError\u001b[0m: list index out of range"
          ]
        }
      ]
    },
    {
      "cell_type": "code",
      "source": [
        "seg_map[seg_map != 1] = 0\n",
        "plt.figure(figsize=(15, 15))\n",
        "plt.subplot(1, 2, 1)\n",
        "plt.imshow(image)\n",
        "plt.subplot(1, 2, 2)\n",
        "plt.imshow(seg_map)\n",
        "plt.show()"
      ],
      "metadata": {
        "colab": {
          "base_uri": "https://localhost:8080/",
          "height": 235
        },
        "id": "YBzQXTbIZqbs",
        "outputId": "a0f715a7-2ad9-46e3-c366-e02cc3f60a85"
      },
      "execution_count": null,
      "outputs": [
        {
          "output_type": "error",
          "ename": "TypeError",
          "evalue": "ignored",
          "traceback": [
            "\u001b[0;31m---------------------------------------------------------------------------\u001b[0m",
            "\u001b[0;31mTypeError\u001b[0m                                 Traceback (most recent call last)",
            "\u001b[0;32m<ipython-input-139-96f63e1cdd12>\u001b[0m in \u001b[0;36m<module>\u001b[0;34m()\u001b[0m\n\u001b[0;32m----> 1\u001b[0;31m \u001b[0mseg_map\u001b[0m\u001b[0;34m[\u001b[0m\u001b[0mseg_map\u001b[0m \u001b[0;34m!=\u001b[0m \u001b[0;36m1\u001b[0m\u001b[0;34m]\u001b[0m \u001b[0;34m=\u001b[0m \u001b[0;36m0\u001b[0m\u001b[0;34m\u001b[0m\u001b[0;34m\u001b[0m\u001b[0m\n\u001b[0m\u001b[1;32m      2\u001b[0m \u001b[0mplt\u001b[0m\u001b[0;34m.\u001b[0m\u001b[0mfigure\u001b[0m\u001b[0;34m(\u001b[0m\u001b[0mfigsize\u001b[0m\u001b[0;34m=\u001b[0m\u001b[0;34m(\u001b[0m\u001b[0;36m15\u001b[0m\u001b[0;34m,\u001b[0m \u001b[0;36m15\u001b[0m\u001b[0;34m)\u001b[0m\u001b[0;34m)\u001b[0m\u001b[0;34m\u001b[0m\u001b[0;34m\u001b[0m\u001b[0m\n\u001b[1;32m      3\u001b[0m \u001b[0mplt\u001b[0m\u001b[0;34m.\u001b[0m\u001b[0msubplot\u001b[0m\u001b[0;34m(\u001b[0m\u001b[0;36m1\u001b[0m\u001b[0;34m,\u001b[0m \u001b[0;36m2\u001b[0m\u001b[0;34m,\u001b[0m \u001b[0;36m1\u001b[0m\u001b[0;34m)\u001b[0m\u001b[0;34m\u001b[0m\u001b[0;34m\u001b[0m\u001b[0m\n\u001b[1;32m      4\u001b[0m \u001b[0mplt\u001b[0m\u001b[0;34m.\u001b[0m\u001b[0mimshow\u001b[0m\u001b[0;34m(\u001b[0m\u001b[0mimage\u001b[0m\u001b[0;34m)\u001b[0m\u001b[0;34m\u001b[0m\u001b[0;34m\u001b[0m\u001b[0m\n\u001b[1;32m      5\u001b[0m \u001b[0mplt\u001b[0m\u001b[0;34m.\u001b[0m\u001b[0msubplot\u001b[0m\u001b[0;34m(\u001b[0m\u001b[0;36m1\u001b[0m\u001b[0;34m,\u001b[0m \u001b[0;36m2\u001b[0m\u001b[0;34m,\u001b[0m \u001b[0;36m2\u001b[0m\u001b[0;34m)\u001b[0m\u001b[0;34m\u001b[0m\u001b[0;34m\u001b[0m\u001b[0m\n",
            "\u001b[0;31mTypeError\u001b[0m: 'NoneType' object does not support item assignment"
          ]
        }
      ]
    },
    {
      "cell_type": "code",
      "source": [
        ""
      ],
      "metadata": {
        "id": "ObEh0g1fZsx8"
      },
      "execution_count": null,
      "outputs": []
    }
  ]
}